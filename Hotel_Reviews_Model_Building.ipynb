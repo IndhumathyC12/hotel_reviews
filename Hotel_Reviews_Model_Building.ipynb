{
  "cells": [
    {
      "cell_type": "markdown",
      "source": [
        "#<FONT COLOR =\"blue\"> Sentiment Analysis of Hotel Reviews using NLP and Machine Learning Techniques </font>"
      ],
      "metadata": {
        "id": "ZjbL2ccL_qgx"
      }
    },
    {
      "cell_type": "markdown",
      "source": [
        "###<font color =\"blue\">Step 1: Importing Libraries.</font>\n",
        "###<font color =\"blue\">Step 2: Importing the dataset.</font>\n",
        "###<font color =\"blue\">Step 3: Exploratory Data Analysis.</font>\n",
        "###<font color =\"blue\">Step 4: Dat Cleaning.</font>\n",
        "###<font color =\"blue\">Step 5: Model Building.</font>\n",
        "###<font color =\"blue\">Step 6: Validation on test data set.</font>\n",
        "###<font color =\"blue\">Step 7: Metric Evaluation.\n",
        "</font>"
      ],
      "metadata": {
        "id": "vJSDcqAsEODe"
      }
    },
    {
      "cell_type": "markdown",
      "source": [
        " # <FONT COLOR=\"BLUE\"> Step 1: Importing Libraries </FONT>"
      ],
      "metadata": {
        "id": "JEeG4NdGnV_N"
      }
    },
    {
      "cell_type": "code",
      "execution_count": 1,
      "metadata": {
        "id": "36z-ZsOOk6AM",
        "colab": {
          "base_uri": "https://localhost:8080/",
          "height": 107
        },
        "outputId": "1fa73565-48db-4ed2-b0fa-21f832a74f83"
      },
      "outputs": [
        {
          "output_type": "stream",
          "name": "stderr",
          "text": [
            "[nltk_data] Downloading package stopwords to /root/nltk_data...\n",
            "[nltk_data]   Unzipping corpora/stopwords.zip.\n",
            "[nltk_data] Downloading package punkt to /root/nltk_data...\n",
            "[nltk_data]   Unzipping tokenizers/punkt.zip.\n",
            "[nltk_data] Downloading package wordnet to /root/nltk_data...\n"
          ]
        },
        {
          "output_type": "display_data",
          "data": {
            "text/html": [
              "        <script type=\"text/javascript\">\n",
              "        window.PlotlyConfig = {MathJaxConfig: 'local'};\n",
              "        if (window.MathJax) {MathJax.Hub.Config({SVG: {font: \"STIX-Web\"}});}\n",
              "        if (typeof require !== 'undefined') {\n",
              "        require.undef(\"plotly\");\n",
              "        requirejs.config({\n",
              "            paths: {\n",
              "                'plotly': ['https://cdn.plot.ly/plotly-2.8.3.min']\n",
              "            }\n",
              "        });\n",
              "        require(['plotly'], function(Plotly) {\n",
              "            window._Plotly = Plotly;\n",
              "        });\n",
              "        }\n",
              "        </script>\n",
              "        "
            ]
          },
          "metadata": {}
        }
      ],
      "source": [
        "import numpy as np \n",
        "import pandas as pd \n",
        "import re \n",
        "import string\n",
        "import seaborn as sns\n",
        "import matplotlib.pyplot as plt\n",
        "from wordcloud import WordCloud\n",
        "import nltk \n",
        "nltk.download(\"stopwords\")\n",
        "nltk.download('punkt')\n",
        "from nltk import word_tokenize,sent_tokenize\n",
        "nltk.download('wordnet')\n",
        "import nltk as nlp\n",
        "import os\n",
        "\n",
        "import plotly.express as px\n",
        "import plotly\n",
        "import plotly.graph_objects as go\n",
        "from nltk.corpus import stopwords \n",
        "from nltk.tokenize import word_tokenize \n",
        "from nltk.stem import WordNetLemmatizer \n",
        "from nltk.tokenize import TweetTokenizer\n",
        "import copy\n",
        "import spacy\n",
        "from wordcloud import WordCloud, STOPWORDS\n",
        "from collections import Counter\n",
        "from tensorflow.keras.preprocessing.text import Tokenizer\n",
        "from sklearn.model_selection import train_test_split\n",
        "import tensorflow.keras.layers as L\n",
        "from tensorflow.keras.losses import MeanAbsoluteError\n",
        "from tensorflow.keras.optimizers import Adam\n",
        "from tensorflow.keras.preprocessing.sequence import pad_sequences\n",
        "from wordcloud import WordCloud\n",
        "plotly.offline.init_notebook_mode (connected = True)\n",
        "# Preprocessing and evaluation\n",
        "from nltk.corpus import stopwords\n",
        "from nltk.stem.snowball import SnowballStemmer\n",
        "from nltk.stem.wordnet import WordNetLemmatizer\n",
        "from sklearn.model_selection import train_test_split, StratifiedKFold, cross_val_score\n",
        "from sklearn.preprocessing import LabelBinarizer\n",
        "from sklearn.feature_extraction.text import TfidfVectorizer\n",
        "from sklearn.metrics import confusion_matrix, classification_report\n",
        "from tensorflow.keras.preprocessing.text import Tokenizer\n",
        "from tensorflow.keras.preprocessing.sequence import pad_sequences\n",
        "from tensorflow.keras.regularizers import l1, l2\n",
        "\n",
        "# Models\n",
        "from sklearn.tree import DecisionTreeClassifier\n",
        "from sklearn.ensemble import RandomForestClassifier\n",
        "from sklearn.svm import SVC\n",
        "from sklearn.linear_model import LogisticRegression\n",
        "from sklearn.neighbors import KNeighborsClassifier\n",
        "from sklearn.naive_bayes import BernoulliNB\n"
      ]
    },
    {
      "cell_type": "code",
      "execution_count": 2,
      "metadata": {
        "id": "mQ-Qn3YPk_r4",
        "colab": {
          "base_uri": "https://localhost:8080/"
        },
        "outputId": "d127f25d-a6cc-4f07-cdf0-2892c4b0120c"
      },
      "outputs": [
        {
          "output_type": "stream",
          "name": "stderr",
          "text": [
            "[nltk_data] Downloading package omw-1.4 to /root/nltk_data...\n"
          ]
        },
        {
          "output_type": "execute_result",
          "data": {
            "text/plain": [
              "True"
            ]
          },
          "metadata": {},
          "execution_count": 2
        }
      ],
      "source": [
        "import nltk\n",
        "nltk.download('omw-1.4')"
      ]
    },
    {
      "cell_type": "markdown",
      "source": [
        "#<font color=\"blue\"> Step 2: Importing the dataset </font>"
      ],
      "metadata": {
        "id": "HNbx5Xpy6AZ8"
      }
    },
    {
      "cell_type": "code",
      "execution_count": 3,
      "metadata": {
        "id": "pcTavHY7lf83"
      },
      "outputs": [],
      "source": [
        "df=pd.read_csv(\"tripadvisor_hotel_reviews.csv\")"
      ]
    },
    {
      "cell_type": "code",
      "execution_count": 4,
      "metadata": {
        "id": "T0h1Lv1GlhWX",
        "colab": {
          "base_uri": "https://localhost:8080/",
          "height": 206
        },
        "outputId": "a9884a9e-34a1-4c51-9f59-8af6a440025f"
      },
      "outputs": [
        {
          "output_type": "execute_result",
          "data": {
            "text/plain": [
              "                                              Review  Rating\n",
              "0  nice hotel expensive parking got good deal sta...       4\n",
              "1  ok nothing special charge diamond member hilto...       2\n",
              "2  nice rooms not 4* experience hotel monaco seat...       3\n",
              "3  unique, great stay, wonderful time hotel monac...       5\n",
              "4  great stay great stay, went seahawk game aweso...       5"
            ],
            "text/html": [
              "\n",
              "  <div id=\"df-ab59e9a4-1bd2-4356-a2c1-b76b962bee09\">\n",
              "    <div class=\"colab-df-container\">\n",
              "      <div>\n",
              "<style scoped>\n",
              "    .dataframe tbody tr th:only-of-type {\n",
              "        vertical-align: middle;\n",
              "    }\n",
              "\n",
              "    .dataframe tbody tr th {\n",
              "        vertical-align: top;\n",
              "    }\n",
              "\n",
              "    .dataframe thead th {\n",
              "        text-align: right;\n",
              "    }\n",
              "</style>\n",
              "<table border=\"1\" class=\"dataframe\">\n",
              "  <thead>\n",
              "    <tr style=\"text-align: right;\">\n",
              "      <th></th>\n",
              "      <th>Review</th>\n",
              "      <th>Rating</th>\n",
              "    </tr>\n",
              "  </thead>\n",
              "  <tbody>\n",
              "    <tr>\n",
              "      <th>0</th>\n",
              "      <td>nice hotel expensive parking got good deal sta...</td>\n",
              "      <td>4</td>\n",
              "    </tr>\n",
              "    <tr>\n",
              "      <th>1</th>\n",
              "      <td>ok nothing special charge diamond member hilto...</td>\n",
              "      <td>2</td>\n",
              "    </tr>\n",
              "    <tr>\n",
              "      <th>2</th>\n",
              "      <td>nice rooms not 4* experience hotel monaco seat...</td>\n",
              "      <td>3</td>\n",
              "    </tr>\n",
              "    <tr>\n",
              "      <th>3</th>\n",
              "      <td>unique, great stay, wonderful time hotel monac...</td>\n",
              "      <td>5</td>\n",
              "    </tr>\n",
              "    <tr>\n",
              "      <th>4</th>\n",
              "      <td>great stay great stay, went seahawk game aweso...</td>\n",
              "      <td>5</td>\n",
              "    </tr>\n",
              "  </tbody>\n",
              "</table>\n",
              "</div>\n",
              "      <button class=\"colab-df-convert\" onclick=\"convertToInteractive('df-ab59e9a4-1bd2-4356-a2c1-b76b962bee09')\"\n",
              "              title=\"Convert this dataframe to an interactive table.\"\n",
              "              style=\"display:none;\">\n",
              "        \n",
              "  <svg xmlns=\"http://www.w3.org/2000/svg\" height=\"24px\"viewBox=\"0 0 24 24\"\n",
              "       width=\"24px\">\n",
              "    <path d=\"M0 0h24v24H0V0z\" fill=\"none\"/>\n",
              "    <path d=\"M18.56 5.44l.94 2.06.94-2.06 2.06-.94-2.06-.94-.94-2.06-.94 2.06-2.06.94zm-11 1L8.5 8.5l.94-2.06 2.06-.94-2.06-.94L8.5 2.5l-.94 2.06-2.06.94zm10 10l.94 2.06.94-2.06 2.06-.94-2.06-.94-.94-2.06-.94 2.06-2.06.94z\"/><path d=\"M17.41 7.96l-1.37-1.37c-.4-.4-.92-.59-1.43-.59-.52 0-1.04.2-1.43.59L10.3 9.45l-7.72 7.72c-.78.78-.78 2.05 0 2.83L4 21.41c.39.39.9.59 1.41.59.51 0 1.02-.2 1.41-.59l7.78-7.78 2.81-2.81c.8-.78.8-2.07 0-2.86zM5.41 20L4 18.59l7.72-7.72 1.47 1.35L5.41 20z\"/>\n",
              "  </svg>\n",
              "      </button>\n",
              "      \n",
              "  <style>\n",
              "    .colab-df-container {\n",
              "      display:flex;\n",
              "      flex-wrap:wrap;\n",
              "      gap: 12px;\n",
              "    }\n",
              "\n",
              "    .colab-df-convert {\n",
              "      background-color: #E8F0FE;\n",
              "      border: none;\n",
              "      border-radius: 50%;\n",
              "      cursor: pointer;\n",
              "      display: none;\n",
              "      fill: #1967D2;\n",
              "      height: 32px;\n",
              "      padding: 0 0 0 0;\n",
              "      width: 32px;\n",
              "    }\n",
              "\n",
              "    .colab-df-convert:hover {\n",
              "      background-color: #E2EBFA;\n",
              "      box-shadow: 0px 1px 2px rgba(60, 64, 67, 0.3), 0px 1px 3px 1px rgba(60, 64, 67, 0.15);\n",
              "      fill: #174EA6;\n",
              "    }\n",
              "\n",
              "    [theme=dark] .colab-df-convert {\n",
              "      background-color: #3B4455;\n",
              "      fill: #D2E3FC;\n",
              "    }\n",
              "\n",
              "    [theme=dark] .colab-df-convert:hover {\n",
              "      background-color: #434B5C;\n",
              "      box-shadow: 0px 1px 3px 1px rgba(0, 0, 0, 0.15);\n",
              "      filter: drop-shadow(0px 1px 2px rgba(0, 0, 0, 0.3));\n",
              "      fill: #FFFFFF;\n",
              "    }\n",
              "  </style>\n",
              "\n",
              "      <script>\n",
              "        const buttonEl =\n",
              "          document.querySelector('#df-ab59e9a4-1bd2-4356-a2c1-b76b962bee09 button.colab-df-convert');\n",
              "        buttonEl.style.display =\n",
              "          google.colab.kernel.accessAllowed ? 'block' : 'none';\n",
              "\n",
              "        async function convertToInteractive(key) {\n",
              "          const element = document.querySelector('#df-ab59e9a4-1bd2-4356-a2c1-b76b962bee09');\n",
              "          const dataTable =\n",
              "            await google.colab.kernel.invokeFunction('convertToInteractive',\n",
              "                                                     [key], {});\n",
              "          if (!dataTable) return;\n",
              "\n",
              "          const docLinkHtml = 'Like what you see? Visit the ' +\n",
              "            '<a target=\"_blank\" href=https://colab.research.google.com/notebooks/data_table.ipynb>data table notebook</a>'\n",
              "            + ' to learn more about interactive tables.';\n",
              "          element.innerHTML = '';\n",
              "          dataTable['output_type'] = 'display_data';\n",
              "          await google.colab.output.renderOutput(dataTable, element);\n",
              "          const docLink = document.createElement('div');\n",
              "          docLink.innerHTML = docLinkHtml;\n",
              "          element.appendChild(docLink);\n",
              "        }\n",
              "      </script>\n",
              "    </div>\n",
              "  </div>\n",
              "  "
            ]
          },
          "metadata": {},
          "execution_count": 4
        }
      ],
      "source": [
        "df.head()\n"
      ]
    },
    {
      "cell_type": "code",
      "execution_count": 5,
      "metadata": {
        "id": "5YkS4W5Glne3",
        "colab": {
          "base_uri": "https://localhost:8080/"
        },
        "outputId": "d000d6fe-a22a-4ed1-8280-b3de4a3d976e"
      },
      "outputs": [
        {
          "output_type": "stream",
          "name": "stdout",
          "text": [
            "<class 'pandas.core.frame.DataFrame'>\n",
            "RangeIndex: 20491 entries, 0 to 20490\n",
            "Data columns (total 2 columns):\n",
            " #   Column  Non-Null Count  Dtype \n",
            "---  ------  --------------  ----- \n",
            " 0   Review  20491 non-null  object\n",
            " 1   Rating  20491 non-null  int64 \n",
            "dtypes: int64(1), object(1)\n",
            "memory usage: 320.3+ KB\n"
          ]
        }
      ],
      "source": [
        "df.info()"
      ]
    },
    {
      "cell_type": "code",
      "execution_count": 6,
      "metadata": {
        "id": "E4zfFA4ElwHn",
        "colab": {
          "base_uri": "https://localhost:8080/",
          "height": 206
        },
        "outputId": "67854f15-a4a5-4504-d711-235562465951"
      },
      "outputs": [
        {
          "output_type": "execute_result",
          "data": {
            "text/plain": [
              "                                              Review  Rating  Length\n",
              "0  nice hotel expensive parking got good deal sta...       4     593\n",
              "1  ok nothing special charge diamond member hilto...       2    1689\n",
              "2  nice rooms not 4* experience hotel monaco seat...       3    1427\n",
              "3  unique, great stay, wonderful time hotel monac...       5     600\n",
              "4  great stay great stay, went seahawk game aweso...       5    1281"
            ],
            "text/html": [
              "\n",
              "  <div id=\"df-e926d374-749b-49cb-b9db-936abc7f3b29\">\n",
              "    <div class=\"colab-df-container\">\n",
              "      <div>\n",
              "<style scoped>\n",
              "    .dataframe tbody tr th:only-of-type {\n",
              "        vertical-align: middle;\n",
              "    }\n",
              "\n",
              "    .dataframe tbody tr th {\n",
              "        vertical-align: top;\n",
              "    }\n",
              "\n",
              "    .dataframe thead th {\n",
              "        text-align: right;\n",
              "    }\n",
              "</style>\n",
              "<table border=\"1\" class=\"dataframe\">\n",
              "  <thead>\n",
              "    <tr style=\"text-align: right;\">\n",
              "      <th></th>\n",
              "      <th>Review</th>\n",
              "      <th>Rating</th>\n",
              "      <th>Length</th>\n",
              "    </tr>\n",
              "  </thead>\n",
              "  <tbody>\n",
              "    <tr>\n",
              "      <th>0</th>\n",
              "      <td>nice hotel expensive parking got good deal sta...</td>\n",
              "      <td>4</td>\n",
              "      <td>593</td>\n",
              "    </tr>\n",
              "    <tr>\n",
              "      <th>1</th>\n",
              "      <td>ok nothing special charge diamond member hilto...</td>\n",
              "      <td>2</td>\n",
              "      <td>1689</td>\n",
              "    </tr>\n",
              "    <tr>\n",
              "      <th>2</th>\n",
              "      <td>nice rooms not 4* experience hotel monaco seat...</td>\n",
              "      <td>3</td>\n",
              "      <td>1427</td>\n",
              "    </tr>\n",
              "    <tr>\n",
              "      <th>3</th>\n",
              "      <td>unique, great stay, wonderful time hotel monac...</td>\n",
              "      <td>5</td>\n",
              "      <td>600</td>\n",
              "    </tr>\n",
              "    <tr>\n",
              "      <th>4</th>\n",
              "      <td>great stay great stay, went seahawk game aweso...</td>\n",
              "      <td>5</td>\n",
              "      <td>1281</td>\n",
              "    </tr>\n",
              "  </tbody>\n",
              "</table>\n",
              "</div>\n",
              "      <button class=\"colab-df-convert\" onclick=\"convertToInteractive('df-e926d374-749b-49cb-b9db-936abc7f3b29')\"\n",
              "              title=\"Convert this dataframe to an interactive table.\"\n",
              "              style=\"display:none;\">\n",
              "        \n",
              "  <svg xmlns=\"http://www.w3.org/2000/svg\" height=\"24px\"viewBox=\"0 0 24 24\"\n",
              "       width=\"24px\">\n",
              "    <path d=\"M0 0h24v24H0V0z\" fill=\"none\"/>\n",
              "    <path d=\"M18.56 5.44l.94 2.06.94-2.06 2.06-.94-2.06-.94-.94-2.06-.94 2.06-2.06.94zm-11 1L8.5 8.5l.94-2.06 2.06-.94-2.06-.94L8.5 2.5l-.94 2.06-2.06.94zm10 10l.94 2.06.94-2.06 2.06-.94-2.06-.94-.94-2.06-.94 2.06-2.06.94z\"/><path d=\"M17.41 7.96l-1.37-1.37c-.4-.4-.92-.59-1.43-.59-.52 0-1.04.2-1.43.59L10.3 9.45l-7.72 7.72c-.78.78-.78 2.05 0 2.83L4 21.41c.39.39.9.59 1.41.59.51 0 1.02-.2 1.41-.59l7.78-7.78 2.81-2.81c.8-.78.8-2.07 0-2.86zM5.41 20L4 18.59l7.72-7.72 1.47 1.35L5.41 20z\"/>\n",
              "  </svg>\n",
              "      </button>\n",
              "      \n",
              "  <style>\n",
              "    .colab-df-container {\n",
              "      display:flex;\n",
              "      flex-wrap:wrap;\n",
              "      gap: 12px;\n",
              "    }\n",
              "\n",
              "    .colab-df-convert {\n",
              "      background-color: #E8F0FE;\n",
              "      border: none;\n",
              "      border-radius: 50%;\n",
              "      cursor: pointer;\n",
              "      display: none;\n",
              "      fill: #1967D2;\n",
              "      height: 32px;\n",
              "      padding: 0 0 0 0;\n",
              "      width: 32px;\n",
              "    }\n",
              "\n",
              "    .colab-df-convert:hover {\n",
              "      background-color: #E2EBFA;\n",
              "      box-shadow: 0px 1px 2px rgba(60, 64, 67, 0.3), 0px 1px 3px 1px rgba(60, 64, 67, 0.15);\n",
              "      fill: #174EA6;\n",
              "    }\n",
              "\n",
              "    [theme=dark] .colab-df-convert {\n",
              "      background-color: #3B4455;\n",
              "      fill: #D2E3FC;\n",
              "    }\n",
              "\n",
              "    [theme=dark] .colab-df-convert:hover {\n",
              "      background-color: #434B5C;\n",
              "      box-shadow: 0px 1px 3px 1px rgba(0, 0, 0, 0.15);\n",
              "      filter: drop-shadow(0px 1px 2px rgba(0, 0, 0, 0.3));\n",
              "      fill: #FFFFFF;\n",
              "    }\n",
              "  </style>\n",
              "\n",
              "      <script>\n",
              "        const buttonEl =\n",
              "          document.querySelector('#df-e926d374-749b-49cb-b9db-936abc7f3b29 button.colab-df-convert');\n",
              "        buttonEl.style.display =\n",
              "          google.colab.kernel.accessAllowed ? 'block' : 'none';\n",
              "\n",
              "        async function convertToInteractive(key) {\n",
              "          const element = document.querySelector('#df-e926d374-749b-49cb-b9db-936abc7f3b29');\n",
              "          const dataTable =\n",
              "            await google.colab.kernel.invokeFunction('convertToInteractive',\n",
              "                                                     [key], {});\n",
              "          if (!dataTable) return;\n",
              "\n",
              "          const docLinkHtml = 'Like what you see? Visit the ' +\n",
              "            '<a target=\"_blank\" href=https://colab.research.google.com/notebooks/data_table.ipynb>data table notebook</a>'\n",
              "            + ' to learn more about interactive tables.';\n",
              "          element.innerHTML = '';\n",
              "          dataTable['output_type'] = 'display_data';\n",
              "          await google.colab.output.renderOutput(dataTable, element);\n",
              "          const docLink = document.createElement('div');\n",
              "          docLink.innerHTML = docLinkHtml;\n",
              "          element.appendChild(docLink);\n",
              "        }\n",
              "      </script>\n",
              "    </div>\n",
              "  </div>\n",
              "  "
            ]
          },
          "metadata": {},
          "execution_count": 6
        }
      ],
      "source": [
        "# Length of word in sentence\n",
        "df['Length'] = df['Review'].apply(len)\n",
        "df.head()"
      ]
    },
    {
      "cell_type": "markdown",
      "source": [
        "#<font color=\"blue\">Step 3: Exploratory Data analysis </font>"
      ],
      "metadata": {
        "id": "MDYmbFGG6Pei"
      }
    },
    {
      "cell_type": "markdown",
      "source": [
        "### <font color=\"blue\"> Converting rating into sentiment </font>"
      ],
      "metadata": {
        "id": "XfM7dQ0iBHkZ"
      }
    },
    {
      "cell_type": "code",
      "execution_count": 7,
      "metadata": {
        "id": "mwjcXWk5l6jw"
      },
      "outputs": [],
      "source": [
        "# Let's change the rating to be more general and easier to understand\n",
        "def rating(score):\n",
        "    if score > 3:\n",
        "        return 'Positive'\n",
        "    elif score == 3:\n",
        "        return 'Neutral'\n",
        "    else:\n",
        "        return 'Negative'"
      ]
    },
    {
      "cell_type": "code",
      "execution_count": 8,
      "metadata": {
        "id": "wOWruYItl8YH"
      },
      "outputs": [],
      "source": [
        "df['Sentiment'] = df['Rating'].apply(rating)"
      ]
    },
    {
      "cell_type": "markdown",
      "source": [
        "## <font color=\"blue\"> Converting Sentiment Positive,Neutral and Negative into Sentiment 2,1,0"
      ],
      "metadata": {
        "id": "QFhSEaG2BP8v"
      }
    },
    {
      "cell_type": "code",
      "source": [
        "# Let's change the rating to be more general and easier to understand\n",
        "def sentiment(score):\n",
        "    if score==\"Positive\":\n",
        "        return 2\n",
        "    elif score == \"Negative\":\n",
        "        return 0\n",
        "    else:\n",
        "        return 1"
      ],
      "metadata": {
        "id": "gDHUjOWCw_wM"
      },
      "execution_count": 9,
      "outputs": []
    },
    {
      "cell_type": "code",
      "source": [
        "df['sentiment'] = df['Sentiment'].apply(sentiment)"
      ],
      "metadata": {
        "id": "JWSdtBgWxS6x"
      },
      "execution_count": 10,
      "outputs": []
    },
    {
      "cell_type": "code",
      "execution_count": 11,
      "metadata": {
        "id": "liLKZHzFmGpX",
        "colab": {
          "base_uri": "https://localhost:8080/",
          "height": 206
        },
        "outputId": "41c4dac1-279d-4432-e4d9-fc93759b8780"
      },
      "outputs": [
        {
          "output_type": "execute_result",
          "data": {
            "text/plain": [
              "                                              Review  Rating  Length  \\\n",
              "0  nice hotel expensive parking got good deal sta...       4     593   \n",
              "1  ok nothing special charge diamond member hilto...       2    1689   \n",
              "2  nice rooms not 4* experience hotel monaco seat...       3    1427   \n",
              "3  unique, great stay, wonderful time hotel monac...       5     600   \n",
              "4  great stay great stay, went seahawk game aweso...       5    1281   \n",
              "\n",
              "  Sentiment  sentiment  \n",
              "0  Positive          2  \n",
              "1  Negative          0  \n",
              "2   Neutral          1  \n",
              "3  Positive          2  \n",
              "4  Positive          2  "
            ],
            "text/html": [
              "\n",
              "  <div id=\"df-2849d099-8028-419e-a9bf-a6451c62929c\">\n",
              "    <div class=\"colab-df-container\">\n",
              "      <div>\n",
              "<style scoped>\n",
              "    .dataframe tbody tr th:only-of-type {\n",
              "        vertical-align: middle;\n",
              "    }\n",
              "\n",
              "    .dataframe tbody tr th {\n",
              "        vertical-align: top;\n",
              "    }\n",
              "\n",
              "    .dataframe thead th {\n",
              "        text-align: right;\n",
              "    }\n",
              "</style>\n",
              "<table border=\"1\" class=\"dataframe\">\n",
              "  <thead>\n",
              "    <tr style=\"text-align: right;\">\n",
              "      <th></th>\n",
              "      <th>Review</th>\n",
              "      <th>Rating</th>\n",
              "      <th>Length</th>\n",
              "      <th>Sentiment</th>\n",
              "      <th>sentiment</th>\n",
              "    </tr>\n",
              "  </thead>\n",
              "  <tbody>\n",
              "    <tr>\n",
              "      <th>0</th>\n",
              "      <td>nice hotel expensive parking got good deal sta...</td>\n",
              "      <td>4</td>\n",
              "      <td>593</td>\n",
              "      <td>Positive</td>\n",
              "      <td>2</td>\n",
              "    </tr>\n",
              "    <tr>\n",
              "      <th>1</th>\n",
              "      <td>ok nothing special charge diamond member hilto...</td>\n",
              "      <td>2</td>\n",
              "      <td>1689</td>\n",
              "      <td>Negative</td>\n",
              "      <td>0</td>\n",
              "    </tr>\n",
              "    <tr>\n",
              "      <th>2</th>\n",
              "      <td>nice rooms not 4* experience hotel monaco seat...</td>\n",
              "      <td>3</td>\n",
              "      <td>1427</td>\n",
              "      <td>Neutral</td>\n",
              "      <td>1</td>\n",
              "    </tr>\n",
              "    <tr>\n",
              "      <th>3</th>\n",
              "      <td>unique, great stay, wonderful time hotel monac...</td>\n",
              "      <td>5</td>\n",
              "      <td>600</td>\n",
              "      <td>Positive</td>\n",
              "      <td>2</td>\n",
              "    </tr>\n",
              "    <tr>\n",
              "      <th>4</th>\n",
              "      <td>great stay great stay, went seahawk game aweso...</td>\n",
              "      <td>5</td>\n",
              "      <td>1281</td>\n",
              "      <td>Positive</td>\n",
              "      <td>2</td>\n",
              "    </tr>\n",
              "  </tbody>\n",
              "</table>\n",
              "</div>\n",
              "      <button class=\"colab-df-convert\" onclick=\"convertToInteractive('df-2849d099-8028-419e-a9bf-a6451c62929c')\"\n",
              "              title=\"Convert this dataframe to an interactive table.\"\n",
              "              style=\"display:none;\">\n",
              "        \n",
              "  <svg xmlns=\"http://www.w3.org/2000/svg\" height=\"24px\"viewBox=\"0 0 24 24\"\n",
              "       width=\"24px\">\n",
              "    <path d=\"M0 0h24v24H0V0z\" fill=\"none\"/>\n",
              "    <path d=\"M18.56 5.44l.94 2.06.94-2.06 2.06-.94-2.06-.94-.94-2.06-.94 2.06-2.06.94zm-11 1L8.5 8.5l.94-2.06 2.06-.94-2.06-.94L8.5 2.5l-.94 2.06-2.06.94zm10 10l.94 2.06.94-2.06 2.06-.94-2.06-.94-.94-2.06-.94 2.06-2.06.94z\"/><path d=\"M17.41 7.96l-1.37-1.37c-.4-.4-.92-.59-1.43-.59-.52 0-1.04.2-1.43.59L10.3 9.45l-7.72 7.72c-.78.78-.78 2.05 0 2.83L4 21.41c.39.39.9.59 1.41.59.51 0 1.02-.2 1.41-.59l7.78-7.78 2.81-2.81c.8-.78.8-2.07 0-2.86zM5.41 20L4 18.59l7.72-7.72 1.47 1.35L5.41 20z\"/>\n",
              "  </svg>\n",
              "      </button>\n",
              "      \n",
              "  <style>\n",
              "    .colab-df-container {\n",
              "      display:flex;\n",
              "      flex-wrap:wrap;\n",
              "      gap: 12px;\n",
              "    }\n",
              "\n",
              "    .colab-df-convert {\n",
              "      background-color: #E8F0FE;\n",
              "      border: none;\n",
              "      border-radius: 50%;\n",
              "      cursor: pointer;\n",
              "      display: none;\n",
              "      fill: #1967D2;\n",
              "      height: 32px;\n",
              "      padding: 0 0 0 0;\n",
              "      width: 32px;\n",
              "    }\n",
              "\n",
              "    .colab-df-convert:hover {\n",
              "      background-color: #E2EBFA;\n",
              "      box-shadow: 0px 1px 2px rgba(60, 64, 67, 0.3), 0px 1px 3px 1px rgba(60, 64, 67, 0.15);\n",
              "      fill: #174EA6;\n",
              "    }\n",
              "\n",
              "    [theme=dark] .colab-df-convert {\n",
              "      background-color: #3B4455;\n",
              "      fill: #D2E3FC;\n",
              "    }\n",
              "\n",
              "    [theme=dark] .colab-df-convert:hover {\n",
              "      background-color: #434B5C;\n",
              "      box-shadow: 0px 1px 3px 1px rgba(0, 0, 0, 0.15);\n",
              "      filter: drop-shadow(0px 1px 2px rgba(0, 0, 0, 0.3));\n",
              "      fill: #FFFFFF;\n",
              "    }\n",
              "  </style>\n",
              "\n",
              "      <script>\n",
              "        const buttonEl =\n",
              "          document.querySelector('#df-2849d099-8028-419e-a9bf-a6451c62929c button.colab-df-convert');\n",
              "        buttonEl.style.display =\n",
              "          google.colab.kernel.accessAllowed ? 'block' : 'none';\n",
              "\n",
              "        async function convertToInteractive(key) {\n",
              "          const element = document.querySelector('#df-2849d099-8028-419e-a9bf-a6451c62929c');\n",
              "          const dataTable =\n",
              "            await google.colab.kernel.invokeFunction('convertToInteractive',\n",
              "                                                     [key], {});\n",
              "          if (!dataTable) return;\n",
              "\n",
              "          const docLinkHtml = 'Like what you see? Visit the ' +\n",
              "            '<a target=\"_blank\" href=https://colab.research.google.com/notebooks/data_table.ipynb>data table notebook</a>'\n",
              "            + ' to learn more about interactive tables.';\n",
              "          element.innerHTML = '';\n",
              "          dataTable['output_type'] = 'display_data';\n",
              "          await google.colab.output.renderOutput(dataTable, element);\n",
              "          const docLink = document.createElement('div');\n",
              "          docLink.innerHTML = docLinkHtml;\n",
              "          element.appendChild(docLink);\n",
              "        }\n",
              "      </script>\n",
              "    </div>\n",
              "  </div>\n",
              "  "
            ]
          },
          "metadata": {},
          "execution_count": 11
        }
      ],
      "source": [
        "df.head()"
      ]
    },
    {
      "cell_type": "code",
      "execution_count": 12,
      "metadata": {
        "id": "9rhyBVXLmHw_"
      },
      "outputs": [],
      "source": [
        "# Total word in dataset before cleaning\n",
        "length = df['Length'].sum()"
      ]
    },
    {
      "cell_type": "markdown",
      "source": [
        "## <font color=\"blue\"> Difference between Stemming and Lemmatisation </font>"
      ],
      "metadata": {
        "id": "LBdTSPndBeuj"
      }
    },
    {
      "cell_type": "code",
      "execution_count": 13,
      "metadata": {
        "id": "rAveBcSVmJkn",
        "colab": {
          "base_uri": "https://localhost:8080/"
        },
        "outputId": "553ed44e-4663-4a3b-e821-96e6ba16fea9"
      },
      "outputs": [
        {
          "output_type": "stream",
          "name": "stdout",
          "text": [
            "Original:\n",
            "nice hotel expensive parking got good deal stay hotel anniversary, arrived late evening took advice previous reviews did valet parking, check quick easy, little disappointed non-existent view room room clean nice size, bed comfortable woke stiff neck high pillows, not soundproof like heard music room night morning loud bangs doors opening closing hear people talking hallway, maybe just noisy neighbors, aveda bath products nice, did not goldfish stay nice touch taken advantage staying longer, location great walking distance shopping, overall nice experience having pay 40 parking night,  \n",
            "\n",
            "Stemming:\n",
            "nice hotel expens park got good deal stay hotel anniversary, arriv late even took advic previous review did valet parking, check quick easy, littl disappoint non-exist view room room clean nice size, bed comfort woke stiff neck high pillows, not soundproof like heard music room night morn loud bang door open close hear peopl talk hallway, mayb just noisi neighbors, aveda bath product nice, did not goldfish stay nice touch taken advantag stay longer, locat great walk distanc shopping, overal nice experi have pay 40 park night,\n",
            "\n",
            "Lemmatization:\n",
            "nice hotel expensive park get good deal stay hotel anniversary, arrive late even take advice previous review do valet parking, check quick easy, little disappoint non-existent view room room clean nice size, bed comfortable wake stiff neck high pillows, not soundproof like hear music room night morning loud bang doors open close hear people talk hallway, maybe just noisy neighbors, aveda bath products nice, do not goldfish stay nice touch take advantage stay longer, location great walk distance shopping, overall nice experience have pay 40 park night,\n"
          ]
        }
      ],
      "source": [
        "print('Original:')\n",
        "print(df['Review'][0])\n",
        "print()\n",
        "\n",
        "sentence = []\n",
        "for word in df['Review'][0].split():\n",
        "    stemmer = SnowballStemmer('english')\n",
        "    sentence.append(stemmer.stem(word))\n",
        "print('Stemming:')\n",
        "print(' '.join(sentence))\n",
        "print()\n",
        "\n",
        "sentence = []\n",
        "for word in df['Review'][0].split():\n",
        "    lemmatizer = WordNetLemmatizer()\n",
        "    sentence.append(lemmatizer.lemmatize(word, 'v'))\n",
        "print('Lemmatization:')\n",
        "print(' '.join(sentence))"
      ]
    },
    {
      "cell_type": "markdown",
      "source": [
        "#<font color=\"blue\">Step 4: Data Cleaning </font>"
      ],
      "metadata": {
        "id": "lUAsvhZw6Vqd"
      }
    },
    {
      "cell_type": "markdown",
      "source": [
        "### <font color=\"blue\">\n",
        "1. Removing punctuations.\n",
        "2. Converting to lowercase.\n",
        "3. Removing stop words.\n",
        "4. Lemmatization.\n",
        "</font>\n"
      ],
      "metadata": {
        "id": "_VlWTqhqB3Iu"
      }
    },
    {
      "cell_type": "code",
      "execution_count": 14,
      "metadata": {
        "id": "CvzB1UXhmMdP"
      },
      "outputs": [],
      "source": [
        "def cleaning(text):\n",
        "    #remove punctuations and uppercase\n",
        "    clean_text = text.translate(str.maketrans('','',string.punctuation)).lower()\n",
        "    \n",
        "    #remove stopwords\n",
        "    clean_text = [word for word in clean_text.split() if word not in stopwords.words('english')]\n",
        "    \n",
        "    #lemmatize the word\n",
        "    sentence = []\n",
        "    for word in clean_text:\n",
        "        lemmatizer = WordNetLemmatizer()\n",
        "        sentence.append(lemmatizer.lemmatize(word, 'v'))\n",
        "\n",
        "    return ' '.join(sentence)"
      ]
    },
    {
      "cell_type": "code",
      "execution_count": 15,
      "metadata": {
        "id": "EopokiLImWRH"
      },
      "outputs": [],
      "source": [
        "df['Review'] = df['Review'].apply(cleaning)"
      ]
    },
    {
      "cell_type": "code",
      "execution_count": 16,
      "metadata": {
        "id": "KVtvm3-zmXcG",
        "colab": {
          "base_uri": "https://localhost:8080/"
        },
        "outputId": "d5ceaf38-fa54-44e2-fbff-25cce9af4209"
      },
      "outputs": [
        {
          "output_type": "stream",
          "name": "stdout",
          "text": [
            "Total text length before cleaning: 14853861\n",
            "Total text length after cleaning: 13543965\n"
          ]
        }
      ],
      "source": [
        "df['Length'] = df['Review'].apply(len)\n",
        "new_length = df['Length'].sum()\n",
        "\n",
        "print('Total text length before cleaning: {}'.format(length))\n",
        "print('Total text length after cleaning: {}'.format(new_length))"
      ]
    },
    {
      "cell_type": "code",
      "execution_count": 17,
      "metadata": {
        "id": "O1yy_67NWnq-",
        "colab": {
          "base_uri": "https://localhost:8080/",
          "height": 423
        },
        "outputId": "9f6f5700-0b18-48d0-d616-e7c08223996f"
      },
      "outputs": [
        {
          "output_type": "execute_result",
          "data": {
            "text/plain": [
              "                                                  Review  Rating  Length  \\\n",
              "0      nice hotel expensive park get good deal stay h...       4     512   \n",
              "1      ok nothing special charge diamond member hilto...       2    1538   \n",
              "2      nice room 4 experience hotel monaco seattle go...       3    1325   \n",
              "3      unique great stay wonderful time hotel monaco ...       5     546   \n",
              "4      great stay great stay go seahawk game awesome ...       5    1117   \n",
              "...                                                  ...     ...     ...   \n",
              "20486  best keep secret 3rd time stay charm 5star ca ...       5     667   \n",
              "20487  great location price view hotel great quick pl...       4     290   \n",
              "20488  ok look nice modern outside desk staff nt part...       2     402   \n",
              "20489  hotel theft ruin vacation hotel open sept 17 2...       1    5059   \n",
              "20490  people talk ca nt believe excellent rat hotel ...       2     555   \n",
              "\n",
              "      Sentiment  sentiment  \n",
              "0      Positive          2  \n",
              "1      Negative          0  \n",
              "2       Neutral          1  \n",
              "3      Positive          2  \n",
              "4      Positive          2  \n",
              "...         ...        ...  \n",
              "20486  Positive          2  \n",
              "20487  Positive          2  \n",
              "20488  Negative          0  \n",
              "20489  Negative          0  \n",
              "20490  Negative          0  \n",
              "\n",
              "[20491 rows x 5 columns]"
            ],
            "text/html": [
              "\n",
              "  <div id=\"df-4dc3c16f-b1f5-4918-9c37-1b4b2bbf1e71\">\n",
              "    <div class=\"colab-df-container\">\n",
              "      <div>\n",
              "<style scoped>\n",
              "    .dataframe tbody tr th:only-of-type {\n",
              "        vertical-align: middle;\n",
              "    }\n",
              "\n",
              "    .dataframe tbody tr th {\n",
              "        vertical-align: top;\n",
              "    }\n",
              "\n",
              "    .dataframe thead th {\n",
              "        text-align: right;\n",
              "    }\n",
              "</style>\n",
              "<table border=\"1\" class=\"dataframe\">\n",
              "  <thead>\n",
              "    <tr style=\"text-align: right;\">\n",
              "      <th></th>\n",
              "      <th>Review</th>\n",
              "      <th>Rating</th>\n",
              "      <th>Length</th>\n",
              "      <th>Sentiment</th>\n",
              "      <th>sentiment</th>\n",
              "    </tr>\n",
              "  </thead>\n",
              "  <tbody>\n",
              "    <tr>\n",
              "      <th>0</th>\n",
              "      <td>nice hotel expensive park get good deal stay h...</td>\n",
              "      <td>4</td>\n",
              "      <td>512</td>\n",
              "      <td>Positive</td>\n",
              "      <td>2</td>\n",
              "    </tr>\n",
              "    <tr>\n",
              "      <th>1</th>\n",
              "      <td>ok nothing special charge diamond member hilto...</td>\n",
              "      <td>2</td>\n",
              "      <td>1538</td>\n",
              "      <td>Negative</td>\n",
              "      <td>0</td>\n",
              "    </tr>\n",
              "    <tr>\n",
              "      <th>2</th>\n",
              "      <td>nice room 4 experience hotel monaco seattle go...</td>\n",
              "      <td>3</td>\n",
              "      <td>1325</td>\n",
              "      <td>Neutral</td>\n",
              "      <td>1</td>\n",
              "    </tr>\n",
              "    <tr>\n",
              "      <th>3</th>\n",
              "      <td>unique great stay wonderful time hotel monaco ...</td>\n",
              "      <td>5</td>\n",
              "      <td>546</td>\n",
              "      <td>Positive</td>\n",
              "      <td>2</td>\n",
              "    </tr>\n",
              "    <tr>\n",
              "      <th>4</th>\n",
              "      <td>great stay great stay go seahawk game awesome ...</td>\n",
              "      <td>5</td>\n",
              "      <td>1117</td>\n",
              "      <td>Positive</td>\n",
              "      <td>2</td>\n",
              "    </tr>\n",
              "    <tr>\n",
              "      <th>...</th>\n",
              "      <td>...</td>\n",
              "      <td>...</td>\n",
              "      <td>...</td>\n",
              "      <td>...</td>\n",
              "      <td>...</td>\n",
              "    </tr>\n",
              "    <tr>\n",
              "      <th>20486</th>\n",
              "      <td>best keep secret 3rd time stay charm 5star ca ...</td>\n",
              "      <td>5</td>\n",
              "      <td>667</td>\n",
              "      <td>Positive</td>\n",
              "      <td>2</td>\n",
              "    </tr>\n",
              "    <tr>\n",
              "      <th>20487</th>\n",
              "      <td>great location price view hotel great quick pl...</td>\n",
              "      <td>4</td>\n",
              "      <td>290</td>\n",
              "      <td>Positive</td>\n",
              "      <td>2</td>\n",
              "    </tr>\n",
              "    <tr>\n",
              "      <th>20488</th>\n",
              "      <td>ok look nice modern outside desk staff nt part...</td>\n",
              "      <td>2</td>\n",
              "      <td>402</td>\n",
              "      <td>Negative</td>\n",
              "      <td>0</td>\n",
              "    </tr>\n",
              "    <tr>\n",
              "      <th>20489</th>\n",
              "      <td>hotel theft ruin vacation hotel open sept 17 2...</td>\n",
              "      <td>1</td>\n",
              "      <td>5059</td>\n",
              "      <td>Negative</td>\n",
              "      <td>0</td>\n",
              "    </tr>\n",
              "    <tr>\n",
              "      <th>20490</th>\n",
              "      <td>people talk ca nt believe excellent rat hotel ...</td>\n",
              "      <td>2</td>\n",
              "      <td>555</td>\n",
              "      <td>Negative</td>\n",
              "      <td>0</td>\n",
              "    </tr>\n",
              "  </tbody>\n",
              "</table>\n",
              "<p>20491 rows × 5 columns</p>\n",
              "</div>\n",
              "      <button class=\"colab-df-convert\" onclick=\"convertToInteractive('df-4dc3c16f-b1f5-4918-9c37-1b4b2bbf1e71')\"\n",
              "              title=\"Convert this dataframe to an interactive table.\"\n",
              "              style=\"display:none;\">\n",
              "        \n",
              "  <svg xmlns=\"http://www.w3.org/2000/svg\" height=\"24px\"viewBox=\"0 0 24 24\"\n",
              "       width=\"24px\">\n",
              "    <path d=\"M0 0h24v24H0V0z\" fill=\"none\"/>\n",
              "    <path d=\"M18.56 5.44l.94 2.06.94-2.06 2.06-.94-2.06-.94-.94-2.06-.94 2.06-2.06.94zm-11 1L8.5 8.5l.94-2.06 2.06-.94-2.06-.94L8.5 2.5l-.94 2.06-2.06.94zm10 10l.94 2.06.94-2.06 2.06-.94-2.06-.94-.94-2.06-.94 2.06-2.06.94z\"/><path d=\"M17.41 7.96l-1.37-1.37c-.4-.4-.92-.59-1.43-.59-.52 0-1.04.2-1.43.59L10.3 9.45l-7.72 7.72c-.78.78-.78 2.05 0 2.83L4 21.41c.39.39.9.59 1.41.59.51 0 1.02-.2 1.41-.59l7.78-7.78 2.81-2.81c.8-.78.8-2.07 0-2.86zM5.41 20L4 18.59l7.72-7.72 1.47 1.35L5.41 20z\"/>\n",
              "  </svg>\n",
              "      </button>\n",
              "      \n",
              "  <style>\n",
              "    .colab-df-container {\n",
              "      display:flex;\n",
              "      flex-wrap:wrap;\n",
              "      gap: 12px;\n",
              "    }\n",
              "\n",
              "    .colab-df-convert {\n",
              "      background-color: #E8F0FE;\n",
              "      border: none;\n",
              "      border-radius: 50%;\n",
              "      cursor: pointer;\n",
              "      display: none;\n",
              "      fill: #1967D2;\n",
              "      height: 32px;\n",
              "      padding: 0 0 0 0;\n",
              "      width: 32px;\n",
              "    }\n",
              "\n",
              "    .colab-df-convert:hover {\n",
              "      background-color: #E2EBFA;\n",
              "      box-shadow: 0px 1px 2px rgba(60, 64, 67, 0.3), 0px 1px 3px 1px rgba(60, 64, 67, 0.15);\n",
              "      fill: #174EA6;\n",
              "    }\n",
              "\n",
              "    [theme=dark] .colab-df-convert {\n",
              "      background-color: #3B4455;\n",
              "      fill: #D2E3FC;\n",
              "    }\n",
              "\n",
              "    [theme=dark] .colab-df-convert:hover {\n",
              "      background-color: #434B5C;\n",
              "      box-shadow: 0px 1px 3px 1px rgba(0, 0, 0, 0.15);\n",
              "      filter: drop-shadow(0px 1px 2px rgba(0, 0, 0, 0.3));\n",
              "      fill: #FFFFFF;\n",
              "    }\n",
              "  </style>\n",
              "\n",
              "      <script>\n",
              "        const buttonEl =\n",
              "          document.querySelector('#df-4dc3c16f-b1f5-4918-9c37-1b4b2bbf1e71 button.colab-df-convert');\n",
              "        buttonEl.style.display =\n",
              "          google.colab.kernel.accessAllowed ? 'block' : 'none';\n",
              "\n",
              "        async function convertToInteractive(key) {\n",
              "          const element = document.querySelector('#df-4dc3c16f-b1f5-4918-9c37-1b4b2bbf1e71');\n",
              "          const dataTable =\n",
              "            await google.colab.kernel.invokeFunction('convertToInteractive',\n",
              "                                                     [key], {});\n",
              "          if (!dataTable) return;\n",
              "\n",
              "          const docLinkHtml = 'Like what you see? Visit the ' +\n",
              "            '<a target=\"_blank\" href=https://colab.research.google.com/notebooks/data_table.ipynb>data table notebook</a>'\n",
              "            + ' to learn more about interactive tables.';\n",
              "          element.innerHTML = '';\n",
              "          dataTable['output_type'] = 'display_data';\n",
              "          await google.colab.output.renderOutput(dataTable, element);\n",
              "          const docLink = document.createElement('div');\n",
              "          docLink.innerHTML = docLinkHtml;\n",
              "          element.appendChild(docLink);\n",
              "        }\n",
              "      </script>\n",
              "    </div>\n",
              "  </div>\n",
              "  "
            ]
          },
          "metadata": {},
          "execution_count": 17
        }
      ],
      "source": [
        "df"
      ]
    },
    {
      "cell_type": "markdown",
      "source": [
        "#<font color=\"blue\">Step 5: Model Building </font>"
      ],
      "metadata": {
        "id": "5gf7vyuEYbwa"
      }
    },
    {
      "cell_type": "markdown",
      "source": [
        "### <font color=\"blue\"> Splitting data into training and test set\n",
        "</font>"
      ],
      "metadata": {
        "id": "x0pvqqOs6x3n"
      }
    },
    {
      "cell_type": "code",
      "execution_count": 18,
      "metadata": {
        "id": "rxRa_hkxmcD_"
      },
      "outputs": [],
      "source": [
        "X_train, X_test, y_train, y_test = train_test_split(df['Review'], df['sentiment'], test_size=0.2)"
      ]
    },
    {
      "cell_type": "markdown",
      "source": [
        "### <font color=\"blue\"> Using nlp technique - tf-idf </font>"
      ],
      "metadata": {
        "id": "XZacLn2A62k_"
      }
    },
    {
      "cell_type": "code",
      "execution_count": 19,
      "metadata": {
        "id": "OuV2AHyYmcZH"
      },
      "outputs": [],
      "source": [
        "tfid = TfidfVectorizer()\n",
        "train_tfid_matrix = tfid.fit_transform(X_train)\n",
        "test_tfid_matrix = tfid.transform(X_test)"
      ]
    },
    {
      "cell_type": "code",
      "execution_count": 20,
      "metadata": {
        "id": "5peoROaumfM4"
      },
      "outputs": [],
      "source": [
        "models = [DecisionTreeClassifier(),\n",
        "          RandomForestClassifier(),\n",
        "          SVC(),\n",
        "          LogisticRegression(max_iter=1000),\n",
        "          KNeighborsClassifier(),\n",
        "          BernoulliNB()]"
      ]
    },
    {
      "cell_type": "code",
      "execution_count": 21,
      "metadata": {
        "id": "Z-EpkLC3mfff"
      },
      "outputs": [],
      "source": [
        "accuracy = []\n",
        "\n",
        "for model in models:\n",
        "    cross_val = cross_val_score(model, train_tfid_matrix, y_train, scoring='accuracy',\n",
        "                               cv=StratifiedKFold(10)).mean()\n",
        "    accuracy.append(cross_val)"
      ]
    },
    {
      "cell_type": "code",
      "execution_count": 22,
      "metadata": {
        "id": "WI1LhYaKmgvu",
        "colab": {
          "base_uri": "https://localhost:8080/",
          "height": 237
        },
        "outputId": "d6b5e212-3a9f-4279-ec1f-c48226d085e2"
      },
      "outputs": [
        {
          "output_type": "execute_result",
          "data": {
            "text/plain": [
              "                    Model  Accuracy\n",
              "0  DecisionTreeClassifier  0.735236\n",
              "1  RandomForestClassifier  0.778855\n",
              "2                     SVC  0.852184\n",
              "3      LogisticRegression  0.856027\n",
              "4    KNeighborsClassifier  0.779831\n",
              "5             BernoulliNB  0.751769"
            ],
            "text/html": [
              "\n",
              "  <div id=\"df-b24af025-b38d-4c50-912b-f96b80177e21\">\n",
              "    <div class=\"colab-df-container\">\n",
              "      <div>\n",
              "<style scoped>\n",
              "    .dataframe tbody tr th:only-of-type {\n",
              "        vertical-align: middle;\n",
              "    }\n",
              "\n",
              "    .dataframe tbody tr th {\n",
              "        vertical-align: top;\n",
              "    }\n",
              "\n",
              "    .dataframe thead th {\n",
              "        text-align: right;\n",
              "    }\n",
              "</style>\n",
              "<table border=\"1\" class=\"dataframe\">\n",
              "  <thead>\n",
              "    <tr style=\"text-align: right;\">\n",
              "      <th></th>\n",
              "      <th>Model</th>\n",
              "      <th>Accuracy</th>\n",
              "    </tr>\n",
              "  </thead>\n",
              "  <tbody>\n",
              "    <tr>\n",
              "      <th>0</th>\n",
              "      <td>DecisionTreeClassifier</td>\n",
              "      <td>0.735236</td>\n",
              "    </tr>\n",
              "    <tr>\n",
              "      <th>1</th>\n",
              "      <td>RandomForestClassifier</td>\n",
              "      <td>0.778855</td>\n",
              "    </tr>\n",
              "    <tr>\n",
              "      <th>2</th>\n",
              "      <td>SVC</td>\n",
              "      <td>0.852184</td>\n",
              "    </tr>\n",
              "    <tr>\n",
              "      <th>3</th>\n",
              "      <td>LogisticRegression</td>\n",
              "      <td>0.856027</td>\n",
              "    </tr>\n",
              "    <tr>\n",
              "      <th>4</th>\n",
              "      <td>KNeighborsClassifier</td>\n",
              "      <td>0.779831</td>\n",
              "    </tr>\n",
              "    <tr>\n",
              "      <th>5</th>\n",
              "      <td>BernoulliNB</td>\n",
              "      <td>0.751769</td>\n",
              "    </tr>\n",
              "  </tbody>\n",
              "</table>\n",
              "</div>\n",
              "      <button class=\"colab-df-convert\" onclick=\"convertToInteractive('df-b24af025-b38d-4c50-912b-f96b80177e21')\"\n",
              "              title=\"Convert this dataframe to an interactive table.\"\n",
              "              style=\"display:none;\">\n",
              "        \n",
              "  <svg xmlns=\"http://www.w3.org/2000/svg\" height=\"24px\"viewBox=\"0 0 24 24\"\n",
              "       width=\"24px\">\n",
              "    <path d=\"M0 0h24v24H0V0z\" fill=\"none\"/>\n",
              "    <path d=\"M18.56 5.44l.94 2.06.94-2.06 2.06-.94-2.06-.94-.94-2.06-.94 2.06-2.06.94zm-11 1L8.5 8.5l.94-2.06 2.06-.94-2.06-.94L8.5 2.5l-.94 2.06-2.06.94zm10 10l.94 2.06.94-2.06 2.06-.94-2.06-.94-.94-2.06-.94 2.06-2.06.94z\"/><path d=\"M17.41 7.96l-1.37-1.37c-.4-.4-.92-.59-1.43-.59-.52 0-1.04.2-1.43.59L10.3 9.45l-7.72 7.72c-.78.78-.78 2.05 0 2.83L4 21.41c.39.39.9.59 1.41.59.51 0 1.02-.2 1.41-.59l7.78-7.78 2.81-2.81c.8-.78.8-2.07 0-2.86zM5.41 20L4 18.59l7.72-7.72 1.47 1.35L5.41 20z\"/>\n",
              "  </svg>\n",
              "      </button>\n",
              "      \n",
              "  <style>\n",
              "    .colab-df-container {\n",
              "      display:flex;\n",
              "      flex-wrap:wrap;\n",
              "      gap: 12px;\n",
              "    }\n",
              "\n",
              "    .colab-df-convert {\n",
              "      background-color: #E8F0FE;\n",
              "      border: none;\n",
              "      border-radius: 50%;\n",
              "      cursor: pointer;\n",
              "      display: none;\n",
              "      fill: #1967D2;\n",
              "      height: 32px;\n",
              "      padding: 0 0 0 0;\n",
              "      width: 32px;\n",
              "    }\n",
              "\n",
              "    .colab-df-convert:hover {\n",
              "      background-color: #E2EBFA;\n",
              "      box-shadow: 0px 1px 2px rgba(60, 64, 67, 0.3), 0px 1px 3px 1px rgba(60, 64, 67, 0.15);\n",
              "      fill: #174EA6;\n",
              "    }\n",
              "\n",
              "    [theme=dark] .colab-df-convert {\n",
              "      background-color: #3B4455;\n",
              "      fill: #D2E3FC;\n",
              "    }\n",
              "\n",
              "    [theme=dark] .colab-df-convert:hover {\n",
              "      background-color: #434B5C;\n",
              "      box-shadow: 0px 1px 3px 1px rgba(0, 0, 0, 0.15);\n",
              "      filter: drop-shadow(0px 1px 2px rgba(0, 0, 0, 0.3));\n",
              "      fill: #FFFFFF;\n",
              "    }\n",
              "  </style>\n",
              "\n",
              "      <script>\n",
              "        const buttonEl =\n",
              "          document.querySelector('#df-b24af025-b38d-4c50-912b-f96b80177e21 button.colab-df-convert');\n",
              "        buttonEl.style.display =\n",
              "          google.colab.kernel.accessAllowed ? 'block' : 'none';\n",
              "\n",
              "        async function convertToInteractive(key) {\n",
              "          const element = document.querySelector('#df-b24af025-b38d-4c50-912b-f96b80177e21');\n",
              "          const dataTable =\n",
              "            await google.colab.kernel.invokeFunction('convertToInteractive',\n",
              "                                                     [key], {});\n",
              "          if (!dataTable) return;\n",
              "\n",
              "          const docLinkHtml = 'Like what you see? Visit the ' +\n",
              "            '<a target=\"_blank\" href=https://colab.research.google.com/notebooks/data_table.ipynb>data table notebook</a>'\n",
              "            + ' to learn more about interactive tables.';\n",
              "          element.innerHTML = '';\n",
              "          dataTable['output_type'] = 'display_data';\n",
              "          await google.colab.output.renderOutput(dataTable, element);\n",
              "          const docLink = document.createElement('div');\n",
              "          docLink.innerHTML = docLinkHtml;\n",
              "          element.appendChild(docLink);\n",
              "        }\n",
              "      </script>\n",
              "    </div>\n",
              "  </div>\n",
              "  "
            ]
          },
          "metadata": {},
          "execution_count": 22
        }
      ],
      "source": [
        "models_name = ['DecisionTreeClassifier', 'RandomForestClassifier', 'SVC',\n",
        "         'LogisticRegression', 'KNeighborsClassifier', 'BernoulliNB']\n",
        "\n",
        "acc = pd.DataFrame({'Model': models_name, 'Accuracy': accuracy})\n",
        "acc"
      ]
    },
    {
      "cell_type": "code",
      "source": [
        "acc=acc.sort_values(['Accuracy'],ascending=False)"
      ],
      "metadata": {
        "id": "7s2VIaizRIjt"
      },
      "execution_count": 23,
      "outputs": []
    },
    {
      "cell_type": "markdown",
      "source": [
        "### <font color=\"blue\"> Table chart of accuracy and models used </font>"
      ],
      "metadata": {
        "id": "t5C6XmpWCzlj"
      }
    },
    {
      "cell_type": "code",
      "source": [
        "acc"
      ],
      "metadata": {
        "colab": {
          "base_uri": "https://localhost:8080/",
          "height": 237
        },
        "id": "CcfCJYDuRtF0",
        "outputId": "7260ac83-25c8-48b3-ccb3-0e9352b5990b"
      },
      "execution_count": 24,
      "outputs": [
        {
          "output_type": "execute_result",
          "data": {
            "text/plain": [
              "                    Model  Accuracy\n",
              "3      LogisticRegression  0.856027\n",
              "2                     SVC  0.852184\n",
              "4    KNeighborsClassifier  0.779831\n",
              "1  RandomForestClassifier  0.778855\n",
              "5             BernoulliNB  0.751769\n",
              "0  DecisionTreeClassifier  0.735236"
            ],
            "text/html": [
              "\n",
              "  <div id=\"df-c18aa226-52f4-41bc-843d-fce659714e8b\">\n",
              "    <div class=\"colab-df-container\">\n",
              "      <div>\n",
              "<style scoped>\n",
              "    .dataframe tbody tr th:only-of-type {\n",
              "        vertical-align: middle;\n",
              "    }\n",
              "\n",
              "    .dataframe tbody tr th {\n",
              "        vertical-align: top;\n",
              "    }\n",
              "\n",
              "    .dataframe thead th {\n",
              "        text-align: right;\n",
              "    }\n",
              "</style>\n",
              "<table border=\"1\" class=\"dataframe\">\n",
              "  <thead>\n",
              "    <tr style=\"text-align: right;\">\n",
              "      <th></th>\n",
              "      <th>Model</th>\n",
              "      <th>Accuracy</th>\n",
              "    </tr>\n",
              "  </thead>\n",
              "  <tbody>\n",
              "    <tr>\n",
              "      <th>3</th>\n",
              "      <td>LogisticRegression</td>\n",
              "      <td>0.856027</td>\n",
              "    </tr>\n",
              "    <tr>\n",
              "      <th>2</th>\n",
              "      <td>SVC</td>\n",
              "      <td>0.852184</td>\n",
              "    </tr>\n",
              "    <tr>\n",
              "      <th>4</th>\n",
              "      <td>KNeighborsClassifier</td>\n",
              "      <td>0.779831</td>\n",
              "    </tr>\n",
              "    <tr>\n",
              "      <th>1</th>\n",
              "      <td>RandomForestClassifier</td>\n",
              "      <td>0.778855</td>\n",
              "    </tr>\n",
              "    <tr>\n",
              "      <th>5</th>\n",
              "      <td>BernoulliNB</td>\n",
              "      <td>0.751769</td>\n",
              "    </tr>\n",
              "    <tr>\n",
              "      <th>0</th>\n",
              "      <td>DecisionTreeClassifier</td>\n",
              "      <td>0.735236</td>\n",
              "    </tr>\n",
              "  </tbody>\n",
              "</table>\n",
              "</div>\n",
              "      <button class=\"colab-df-convert\" onclick=\"convertToInteractive('df-c18aa226-52f4-41bc-843d-fce659714e8b')\"\n",
              "              title=\"Convert this dataframe to an interactive table.\"\n",
              "              style=\"display:none;\">\n",
              "        \n",
              "  <svg xmlns=\"http://www.w3.org/2000/svg\" height=\"24px\"viewBox=\"0 0 24 24\"\n",
              "       width=\"24px\">\n",
              "    <path d=\"M0 0h24v24H0V0z\" fill=\"none\"/>\n",
              "    <path d=\"M18.56 5.44l.94 2.06.94-2.06 2.06-.94-2.06-.94-.94-2.06-.94 2.06-2.06.94zm-11 1L8.5 8.5l.94-2.06 2.06-.94-2.06-.94L8.5 2.5l-.94 2.06-2.06.94zm10 10l.94 2.06.94-2.06 2.06-.94-2.06-.94-.94-2.06-.94 2.06-2.06.94z\"/><path d=\"M17.41 7.96l-1.37-1.37c-.4-.4-.92-.59-1.43-.59-.52 0-1.04.2-1.43.59L10.3 9.45l-7.72 7.72c-.78.78-.78 2.05 0 2.83L4 21.41c.39.39.9.59 1.41.59.51 0 1.02-.2 1.41-.59l7.78-7.78 2.81-2.81c.8-.78.8-2.07 0-2.86zM5.41 20L4 18.59l7.72-7.72 1.47 1.35L5.41 20z\"/>\n",
              "  </svg>\n",
              "      </button>\n",
              "      \n",
              "  <style>\n",
              "    .colab-df-container {\n",
              "      display:flex;\n",
              "      flex-wrap:wrap;\n",
              "      gap: 12px;\n",
              "    }\n",
              "\n",
              "    .colab-df-convert {\n",
              "      background-color: #E8F0FE;\n",
              "      border: none;\n",
              "      border-radius: 50%;\n",
              "      cursor: pointer;\n",
              "      display: none;\n",
              "      fill: #1967D2;\n",
              "      height: 32px;\n",
              "      padding: 0 0 0 0;\n",
              "      width: 32px;\n",
              "    }\n",
              "\n",
              "    .colab-df-convert:hover {\n",
              "      background-color: #E2EBFA;\n",
              "      box-shadow: 0px 1px 2px rgba(60, 64, 67, 0.3), 0px 1px 3px 1px rgba(60, 64, 67, 0.15);\n",
              "      fill: #174EA6;\n",
              "    }\n",
              "\n",
              "    [theme=dark] .colab-df-convert {\n",
              "      background-color: #3B4455;\n",
              "      fill: #D2E3FC;\n",
              "    }\n",
              "\n",
              "    [theme=dark] .colab-df-convert:hover {\n",
              "      background-color: #434B5C;\n",
              "      box-shadow: 0px 1px 3px 1px rgba(0, 0, 0, 0.15);\n",
              "      filter: drop-shadow(0px 1px 2px rgba(0, 0, 0, 0.3));\n",
              "      fill: #FFFFFF;\n",
              "    }\n",
              "  </style>\n",
              "\n",
              "      <script>\n",
              "        const buttonEl =\n",
              "          document.querySelector('#df-c18aa226-52f4-41bc-843d-fce659714e8b button.colab-df-convert');\n",
              "        buttonEl.style.display =\n",
              "          google.colab.kernel.accessAllowed ? 'block' : 'none';\n",
              "\n",
              "        async function convertToInteractive(key) {\n",
              "          const element = document.querySelector('#df-c18aa226-52f4-41bc-843d-fce659714e8b');\n",
              "          const dataTable =\n",
              "            await google.colab.kernel.invokeFunction('convertToInteractive',\n",
              "                                                     [key], {});\n",
              "          if (!dataTable) return;\n",
              "\n",
              "          const docLinkHtml = 'Like what you see? Visit the ' +\n",
              "            '<a target=\"_blank\" href=https://colab.research.google.com/notebooks/data_table.ipynb>data table notebook</a>'\n",
              "            + ' to learn more about interactive tables.';\n",
              "          element.innerHTML = '';\n",
              "          dataTable['output_type'] = 'display_data';\n",
              "          await google.colab.output.renderOutput(dataTable, element);\n",
              "          const docLink = document.createElement('div');\n",
              "          docLink.innerHTML = docLinkHtml;\n",
              "          element.appendChild(docLink);\n",
              "        }\n",
              "      </script>\n",
              "    </div>\n",
              "  </div>\n",
              "  "
            ]
          },
          "metadata": {},
          "execution_count": 24
        }
      ]
    },
    {
      "cell_type": "markdown",
      "source": [
        "### <font color=\"blue\"> Comparing the accuracy for different models </font>"
      ],
      "metadata": {
        "id": "aqmHpmLKCrns"
      }
    },
    {
      "cell_type": "code",
      "source": [
        "x = acc['Model']\n",
        "y = acc['Accuracy']*100\n",
        "plt.bar(x=x, height=y,color=\"orange\")\n",
        "plt.title(\"Algorithm Accuracy Comparison\")\n",
        "plt.xticks(rotation=90)\n",
        "plt.xlabel(\"Algorithms\")\n",
        "plt.ylabel(\"Accuracy\")\n",
        "plt.show()"
      ],
      "metadata": {
        "colab": {
          "base_uri": "https://localhost:8080/",
          "height": 403
        },
        "id": "1zGzeekpRCiA",
        "outputId": "3e3aa995-8eb2-4624-cdfb-32e89b34a43b"
      },
      "execution_count": 25,
      "outputs": [
        {
          "output_type": "display_data",
          "data": {
            "text/plain": [
              "<Figure size 432x288 with 1 Axes>"
            ],
            "image/png": "[encoded data removed]"
          },
          "metadata": {
            "needs_background": "light"
          }
        }
      ]
    },
    {
      "cell_type": "markdown",
      "source": [
        "#<font color=\"blue\">Step 6: Validation on test data set </font>"
      ],
      "metadata": {
        "id": "WD6bW1hZ7bRb"
      }
    },
    {
      "cell_type": "code",
      "execution_count": 26,
      "metadata": {
        "id": "gvP2Z1mYmiKn"
      },
      "outputs": [],
      "source": [
        "log = LogisticRegression(max_iter=1000)\n",
        "log.fit(train_tfid_matrix, y_train)\n",
        "\n",
        "pred = log.predict(test_tfid_matrix)"
      ]
    },
    {
      "cell_type": "code",
      "execution_count": 27,
      "metadata": {
        "id": "NNGDz-tPmkqe",
        "colab": {
          "base_uri": "https://localhost:8080/"
        },
        "outputId": "e2fa763a-4343-4c4f-aad5-abd9525e7346"
      },
      "outputs": [
        {
          "output_type": "stream",
          "name": "stdout",
          "text": [
            "[[ 490   30  127]\n",
            " [  83   77  266]\n",
            " [  37   45 2944]]\n",
            "              precision    recall  f1-score   support\n",
            "\n",
            "           0       0.80      0.76      0.78       647\n",
            "           1       0.51      0.18      0.27       426\n",
            "           2       0.88      0.97      0.93      3026\n",
            "\n",
            "    accuracy                           0.86      4099\n",
            "   macro avg       0.73      0.64      0.66      4099\n",
            "weighted avg       0.83      0.86      0.83      4099\n",
            "\n"
          ]
        }
      ],
      "source": [
        "print(confusion_matrix(y_test, pred))\n",
        "print(classification_report(y_test, pred))"
      ]
    },
    {
      "cell_type": "markdown",
      "source": [
        "### <font color=\"blue\"> Confusion Matrix of Logistic Regression </font>"
      ],
      "metadata": {
        "id": "0NWAcJLODIhx"
      }
    },
    {
      "cell_type": "code",
      "source": [
        "plt.figure(figsize=(10,6))\n",
        "fx=sns.heatmap(confusion_matrix(y_test,pred), annot=True, fmt=\".2f\",cmap=\"viridis\")\n",
        "#plt.xlabel('Predictions', fontsize=16)\n",
        "#plt.ylabel('Actuals', fontsize=16)\n",
        "fx.set_title('Confusion Matrix of Logistic Regression\\n');\n",
        "fx.set_xlabel('Predicted Values\\n')\n",
        "fx.set_ylabel('Actual Values\\n');\n",
        "fx.xaxis.set_ticklabels(['Negative','Neutral','Positive'])\n",
        "fx.yaxis.set_ticklabels(['Negative','Neutral','Positive'])\n",
        "plt.show()"
      ],
      "metadata": {
        "id": "2YU47lKdR1Ug",
        "colab": {
          "base_uri": "https://localhost:8080/",
          "height": 431
        },
        "outputId": "749dfc41-29a5-4c7b-ad96-cd76ff54a07e"
      },
      "execution_count": 42,
      "outputs": [
        {
          "output_type": "display_data",
          "data": {
            "text/plain": [
              "<Figure size 720x432 with 2 Axes>"
            ],
            "image/png": "[encoded data removed]"
          },
          "metadata": {
            "needs_background": "light"
          }
        }
      ]
    },
    {
      "cell_type": "code",
      "execution_count": 31,
      "metadata": {
        "id": "xccvDqlZa0GU"
      },
      "outputs": [],
      "source": [
        "dec = DecisionTreeClassifier()\n",
        "dec.fit(train_tfid_matrix, y_train)\n",
        "\n",
        "pred_dec = dec.predict(test_tfid_matrix)"
      ]
    },
    {
      "cell_type": "code",
      "execution_count": 32,
      "metadata": {
        "id": "kFoKPWeIbqKh",
        "colab": {
          "base_uri": "https://localhost:8080/"
        },
        "outputId": "82b8c213-33fa-4159-b16d-a210390b082c"
      },
      "outputs": [
        {
          "output_type": "stream",
          "name": "stdout",
          "text": [
            "[[ 351   94  202]\n",
            " [  95   81  250]\n",
            " [ 224  244 2558]]\n",
            "              precision    recall  f1-score   support\n",
            "\n",
            "           0       0.52      0.54      0.53       647\n",
            "           1       0.19      0.19      0.19       426\n",
            "           2       0.85      0.85      0.85      3026\n",
            "\n",
            "    accuracy                           0.73      4099\n",
            "   macro avg       0.52      0.53      0.52      4099\n",
            "weighted avg       0.73      0.73      0.73      4099\n",
            "\n"
          ]
        }
      ],
      "source": [
        "print(confusion_matrix(y_test, pred_dec))\n",
        "print(classification_report(y_test, pred_dec))"
      ]
    },
    {
      "cell_type": "markdown",
      "source": [
        "### <font color=\"blue\"> Confusion Matrix of DecisionTreeClassifier</font>"
      ],
      "metadata": {
        "id": "hQAvxCmlDPyH"
      }
    },
    {
      "cell_type": "code",
      "source": [
        "plt.figure(figsize=(10,6))\n",
        "fx=sns.heatmap(confusion_matrix(y_test,pred_dec), annot=True, fmt=\".2f\",cmap=\"viridis\")\n",
        "fx.set_title('Confusion Matrix of DecisionTreeClassifier\\n');\n",
        "fx.set_xlabel('Predicted Values\\n')\n",
        "fx.set_ylabel('Actual Values\\n');\n",
        "fx.xaxis.set_ticklabels(['Negative','Neutral','Positive'])\n",
        "fx.yaxis.set_ticklabels(['Negative','Neutral','Positive'])\n",
        "plt.show()"
      ],
      "metadata": {
        "colab": {
          "base_uri": "https://localhost:8080/",
          "height": 431
        },
        "id": "w8N2ZhptSb_q",
        "outputId": "c76030b1-d6b5-4266-d869-1f611312acaa"
      },
      "execution_count": 43,
      "outputs": [
        {
          "output_type": "display_data",
          "data": {
            "text/plain": [
              "<Figure size 720x432 with 2 Axes>"
            ],
            "image/png": "[encoded data removed]"
          },
          "metadata": {
            "needs_background": "light"
          }
        }
      ]
    },
    {
      "cell_type": "code",
      "source": [
        "random_f = RandomForestClassifier()\n",
        "random_f.fit(train_tfid_matrix, y_train)\n",
        "\n",
        "pred_random_f = random_f.predict(test_tfid_matrix)"
      ],
      "metadata": {
        "id": "NsKuzQKbS8C3"
      },
      "execution_count": 44,
      "outputs": []
    },
    {
      "cell_type": "code",
      "source": [
        "print(confusion_matrix(y_test, pred_random_f))\n",
        "print(classification_report(y_test, pred_random_f))"
      ],
      "metadata": {
        "colab": {
          "base_uri": "https://localhost:8080/"
        },
        "id": "_lAL6AOsX2Nc",
        "outputId": "9ecf6ed1-cb43-44f7-ab9f-c8d79c7e7e2a"
      },
      "execution_count": 45,
      "outputs": [
        {
          "output_type": "stream",
          "name": "stdout",
          "text": [
            "[[ 202    0  445]\n",
            " [   8    1  417]\n",
            " [   4    0 3022]]\n",
            "              precision    recall  f1-score   support\n",
            "\n",
            "           0       0.94      0.31      0.47       647\n",
            "           1       1.00      0.00      0.00       426\n",
            "           2       0.78      1.00      0.87      3026\n",
            "\n",
            "    accuracy                           0.79      4099\n",
            "   macro avg       0.91      0.44      0.45      4099\n",
            "weighted avg       0.83      0.79      0.72      4099\n",
            "\n"
          ]
        }
      ]
    },
    {
      "cell_type": "markdown",
      "source": [
        "### <font color=\"blue\"> Confusion Matrix of Random Forest Classifier</font>"
      ],
      "metadata": {
        "id": "7iU-lGtCDUAy"
      }
    },
    {
      "cell_type": "code",
      "source": [
        "plt.figure(figsize=(10,6))\n",
        "fx=sns.heatmap(confusion_matrix(y_test,pred_random_f), annot=True, fmt=\".2f\",cmap=\"viridis\")\n",
        "fx.set_title('Confusion Matrix of RandomForestClassifier\\n');\n",
        "fx.set_xlabel('Predicted Values\\n')\n",
        "fx.set_ylabel('Actual Values\\n');\n",
        "fx.xaxis.set_ticklabels(['Negative','Neutral','Positive'])\n",
        "fx.yaxis.set_ticklabels(['Negative','Neutral','Positive'])\n",
        "plt.show()"
      ],
      "metadata": {
        "colab": {
          "base_uri": "https://localhost:8080/",
          "height": 431
        },
        "id": "2ZQ8UskZX8Us",
        "outputId": "815cf1cb-6589-45c9-82dc-159547d4f9e0"
      },
      "execution_count": 47,
      "outputs": [
        {
          "output_type": "display_data",
          "data": {
            "text/plain": [
              "<Figure size 720x432 with 2 Axes>"
            ],
            "image/png": "[encoded data removed]"
          },
          "metadata": {
            "needs_background": "light"
          }
        }
      ]
    },
    {
      "cell_type": "code",
      "source": [
        "knn = KNeighborsClassifier()\n",
        "knn.fit(train_tfid_matrix, y_train)\n",
        "\n",
        "pred_knn = knn.predict(test_tfid_matrix)"
      ],
      "metadata": {
        "id": "T1JnJEJMYg99"
      },
      "execution_count": 48,
      "outputs": []
    },
    {
      "cell_type": "code",
      "source": [
        "print(confusion_matrix(y_test, pred_knn))\n",
        "print(classification_report(y_test, pred_knn))"
      ],
      "metadata": {
        "colab": {
          "base_uri": "https://localhost:8080/"
        },
        "id": "sxGzJ4ElYuZH",
        "outputId": "54ac0888-a9cb-4a0b-a94c-f0d952554341"
      },
      "execution_count": 49,
      "outputs": [
        {
          "output_type": "stream",
          "name": "stdout",
          "text": [
            "[[ 281   45  321]\n",
            " [  52   39  335]\n",
            " [  80   90 2856]]\n",
            "              precision    recall  f1-score   support\n",
            "\n",
            "           0       0.68      0.43      0.53       647\n",
            "           1       0.22      0.09      0.13       426\n",
            "           2       0.81      0.94      0.87      3026\n",
            "\n",
            "    accuracy                           0.77      4099\n",
            "   macro avg       0.57      0.49      0.51      4099\n",
            "weighted avg       0.73      0.77      0.74      4099\n",
            "\n"
          ]
        }
      ]
    },
    {
      "cell_type": "markdown",
      "source": [
        "### <font color=\"blue\"> Confusion Matrix of KNN </font>"
      ],
      "metadata": {
        "id": "srgzal7MDYSL"
      }
    },
    {
      "cell_type": "code",
      "source": [
        "plt.figure(figsize=(10,6))\n",
        "fx=sns.heatmap(confusion_matrix(y_test,pred_knn), annot=True, fmt=\".2f\",cmap=\"viridis\")\n",
        "fx.set_title('Confusion Matrix of KNN\\n');\n",
        "fx.set_xlabel('Predicted Values\\n')\n",
        "fx.set_ylabel('Actual Values\\n');\n",
        "fx.xaxis.set_ticklabels(['Negative','Neutral','Positive'])\n",
        "fx.yaxis.set_ticklabels(['Negative','Neutral','Positive'])\n",
        "plt.show()"
      ],
      "metadata": {
        "colab": {
          "base_uri": "https://localhost:8080/",
          "height": 431
        },
        "id": "sMqT_6FdYv0j",
        "outputId": "ae3145f7-09ca-4a7a-cf5b-07aba3ca38d6"
      },
      "execution_count": 51,
      "outputs": [
        {
          "output_type": "display_data",
          "data": {
            "text/plain": [
              "<Figure size 720x432 with 2 Axes>"
            ],
            "image/png": "[encoded data removed]"
          },
          "metadata": {
            "needs_background": "light"
          }
        }
      ]
    },
    {
      "cell_type": "code",
      "source": [
        "svc = SVC(probability=True)\n",
        "svc.fit(train_tfid_matrix, y_train)\n",
        "\n",
        "pred_svc = svc.predict(test_tfid_matrix)"
      ],
      "metadata": {
        "id": "PffSJcXoZAqx"
      },
      "execution_count": 52,
      "outputs": []
    },
    {
      "cell_type": "code",
      "source": [
        "print(confusion_matrix(y_test, pred_svc))\n",
        "print(classification_report(y_test, pred_svc))"
      ],
      "metadata": {
        "colab": {
          "base_uri": "https://localhost:8080/"
        },
        "id": "uNYJ7aZSZMV1",
        "outputId": "7b635934-262f-42e6-a762-76f1ff561fff"
      },
      "execution_count": 53,
      "outputs": [
        {
          "output_type": "stream",
          "name": "stdout",
          "text": [
            "[[ 495   18  134]\n",
            " [  85   47  294]\n",
            " [  36   19 2971]]\n",
            "              precision    recall  f1-score   support\n",
            "\n",
            "           0       0.80      0.77      0.78       647\n",
            "           1       0.56      0.11      0.18       426\n",
            "           2       0.87      0.98      0.92      3026\n",
            "\n",
            "    accuracy                           0.86      4099\n",
            "   macro avg       0.75      0.62      0.63      4099\n",
            "weighted avg       0.83      0.86      0.83      4099\n",
            "\n"
          ]
        }
      ]
    },
    {
      "cell_type": "markdown",
      "source": [
        "### <font color=\"blue\"> Confusion Matrix of SVC </font>"
      ],
      "metadata": {
        "id": "ItsLSZn-DauX"
      }
    },
    {
      "cell_type": "code",
      "source": [
        "plt.figure(figsize=(10,6))\n",
        "fx=sns.heatmap(confusion_matrix(y_test,pred_svc), annot=True, fmt=\".2f\",cmap=\"viridis\")\n",
        "fx.set_title('Confusion Matrix of SVC\\n');\n",
        "fx.set_xlabel('Predicted Values\\n')\n",
        "fx.set_ylabel('Actual Values\\n');\n",
        "fx.xaxis.set_ticklabels(['Negative','Neutral','Positive'])\n",
        "fx.yaxis.set_ticklabels(['Negative','Neutral','Positive'])\n",
        "plt.show()"
      ],
      "metadata": {
        "colab": {
          "base_uri": "https://localhost:8080/",
          "height": 428
        },
        "id": "o8FFnkmTZOeD",
        "outputId": "70a592e1-42f1-466c-e5de-6f81208e6284"
      },
      "execution_count": 75,
      "outputs": [
        {
          "output_type": "display_data",
          "data": {
            "text/plain": [
              "<Figure size 720x432 with 2 Axes>"
            ],
            "image/png": "[encoded data removed]"
          },
          "metadata": {}
        }
      ]
    },
    {
      "cell_type": "code",
      "source": [
        "bnb = BernoulliNB()\n",
        "bnb.fit(train_tfid_matrix, y_train)\n",
        "\n",
        "pred_bnb = bnb.predict(test_tfid_matrix)"
      ],
      "metadata": {
        "id": "EkJFjbYPZeGl"
      },
      "execution_count": 55,
      "outputs": []
    },
    {
      "cell_type": "code",
      "source": [
        "print(confusion_matrix(y_test, pred_bnb))\n",
        "print(classification_report(y_test, pred_bnb))"
      ],
      "metadata": {
        "colab": {
          "base_uri": "https://localhost:8080/"
        },
        "id": "N7C3fEKJZrOP",
        "outputId": "9195fc0c-2668-4b42-c95b-bbf30a801201"
      },
      "execution_count": 56,
      "outputs": [
        {
          "output_type": "stream",
          "name": "stdout",
          "text": [
            "[[ 252   11  384]\n",
            " [  42   14  370]\n",
            " [  48  112 2866]]\n",
            "              precision    recall  f1-score   support\n",
            "\n",
            "           0       0.74      0.39      0.51       647\n",
            "           1       0.10      0.03      0.05       426\n",
            "           2       0.79      0.95      0.86      3026\n",
            "\n",
            "    accuracy                           0.76      4099\n",
            "   macro avg       0.54      0.46      0.47      4099\n",
            "weighted avg       0.71      0.76      0.72      4099\n",
            "\n"
          ]
        }
      ]
    },
    {
      "cell_type": "markdown",
      "source": [
        "### <font color=\"blue\"> Confusion Matrix of BernoulliNB </font>"
      ],
      "metadata": {
        "id": "rXhJQX3gDcyo"
      }
    },
    {
      "cell_type": "code",
      "source": [
        "plt.figure(figsize=(10,6))\n",
        "fx=sns.heatmap(confusion_matrix(y_test,pred_bnb), annot=True, fmt=\".2f\",cmap=\"viridis\")\n",
        "fx.set_title('Confusion Matrix of BernoulliNB\\n');\n",
        "fx.set_xlabel('Predicted Values\\n')\n",
        "fx.set_ylabel('Actual Values\\n');\n",
        "fx.xaxis.set_ticklabels(['Negative','Neutral','Positive'])\n",
        "fx.yaxis.set_ticklabels(['Negative','Neutral','Positive'])\n",
        "plt.show()"
      ],
      "metadata": {
        "colab": {
          "base_uri": "https://localhost:8080/",
          "height": 431
        },
        "id": "N-IzUwaTZspo",
        "outputId": "5a4ffe87-cd41-4dfa-bf10-f8920bfffd1d"
      },
      "execution_count": 58,
      "outputs": [
        {
          "output_type": "display_data",
          "data": {
            "text/plain": [
              "<Figure size 720x432 with 2 Axes>"
            ],
            "image/png": "[encoded data removed]"
          },
          "metadata": {
            "needs_background": "light"
          }
        }
      ]
    },
    {
      "cell_type": "code",
      "execution_count": 59,
      "metadata": {
        "id": "q7z-CAcbqjN-",
        "colab": {
          "base_uri": "https://localhost:8080/"
        },
        "outputId": "392f0890-8730-444a-fd4d-d1a8303f4fa8"
      },
      "outputs": [
        {
          "output_type": "stream",
          "name": "stdout",
          "text": [
            "Decision Trees: 69.72\n"
          ]
        }
      ],
      "source": [
        "from sklearn.metrics import roc_auc_score\n",
        "\n",
        "# Generate class membership probabilities\n",
        "y_preb_probs = dec.predict_proba(test_tfid_matrix)\n",
        "\n",
        "dec_auc_curve=roc_auc_score(y_test, y_preb_probs, average=\"weighted\", multi_class=\"ovr\")\n",
        "dec_auc_curve=dec_auc_curve*100\n",
        "print(\"Decision Trees:\",round(dec_auc_curve,2))\n",
        "\n",
        "\n"
      ]
    },
    {
      "cell_type": "code",
      "source": [
        "from sklearn.metrics import roc_auc_score\n",
        "\n",
        "# Generate class membership probabilities\n",
        "y_preb_prob_bnb = bnb.predict_proba(test_tfid_matrix)\n",
        "\n",
        "bnb_auc_curve=roc_auc_score(y_test, y_preb_prob_bnb, average=\"weighted\", multi_class=\"ovr\")\n",
        "bnb_auc_curve=bnb_auc_curve*100\n",
        "print(\"BNB:\",round(bnb_auc_curve,2))"
      ],
      "metadata": {
        "colab": {
          "base_uri": "https://localhost:8080/"
        },
        "id": "A3KUHrJwrtmB",
        "outputId": "9e2cca57-20a9-4a09-f61d-77763c389c2d"
      },
      "execution_count": 60,
      "outputs": [
        {
          "output_type": "stream",
          "name": "stdout",
          "text": [
            "BNB: 83.82\n"
          ]
        }
      ]
    },
    {
      "cell_type": "code",
      "source": [
        "\n",
        "# Generate class membership probabilities\n",
        "y_preb_probs_log = log.predict_proba(test_tfid_matrix)\n",
        "\n",
        "log_auc_curve=roc_auc_score(y_test, y_preb_probs_log, average=\"weighted\", multi_class=\"ovr\")\n",
        "log_auc_curve=log_auc_curve*100\n",
        "print(\"Logistic Regression:\",round(log_auc_curve,2))"
      ],
      "metadata": {
        "colab": {
          "base_uri": "https://localhost:8080/"
        },
        "id": "wt1r4jRJuWZZ",
        "outputId": "2cc3f436-2bd7-4722-8066-00a30be0d564"
      },
      "execution_count": 61,
      "outputs": [
        {
          "output_type": "stream",
          "name": "stdout",
          "text": [
            "Logistic Regression: 94.55\n"
          ]
        }
      ]
    },
    {
      "cell_type": "code",
      "source": [
        "# Generate class membership probabilities\n",
        "y_preb_probs_knn = knn.predict_proba(test_tfid_matrix)\n",
        "\n",
        "knn_auc_curve=roc_auc_score(y_test, y_preb_probs_knn, average=\"weighted\", multi_class=\"ovr\")\n",
        "knn_auc_curve=knn_auc_curve*100\n",
        "print(\"KNN:\",round(knn_auc_curve,2))"
      ],
      "metadata": {
        "colab": {
          "base_uri": "https://localhost:8080/"
        },
        "id": "ES7-wkCTuz1_",
        "outputId": "c33750f6-f33e-4127-8333-b4209d7730b0"
      },
      "execution_count": 62,
      "outputs": [
        {
          "output_type": "stream",
          "name": "stdout",
          "text": [
            "KNN: 77.16\n"
          ]
        }
      ]
    },
    {
      "cell_type": "code",
      "source": [
        "y_preb_probs_svc = svc.predict_proba(test_tfid_matrix)\n",
        "\n",
        "svc_auc_curve=roc_auc_score(y_test, y_preb_probs_svc, average=\"weighted\", multi_class=\"ovr\")\n",
        "svc_auc_curve=svc_auc_curve*100\n",
        "print(\"SVC:\",round(svc_auc_curve,2))"
      ],
      "metadata": {
        "colab": {
          "base_uri": "https://localhost:8080/"
        },
        "id": "ouuXSUJuDzTF",
        "outputId": "e0a0f7b7-294d-4a76-a390-c03ac5bdf5fc"
      },
      "execution_count": 63,
      "outputs": [
        {
          "output_type": "stream",
          "name": "stdout",
          "text": [
            "SVC: 94.34\n"
          ]
        }
      ]
    },
    {
      "cell_type": "code",
      "source": [
        "# Generate class membership probabilities\n",
        "y_preb_probs_ran = random_f.predict_proba(test_tfid_matrix)\n",
        "\n",
        "ran_auc_curve=roc_auc_score(y_test, y_preb_probs_ran, average=\"weighted\", multi_class=\"ovr\")\n",
        "ran_auc_curve=ran_auc_curve*100\n",
        "print(\"Random Forest:\",round(ran_auc_curve,2))"
      ],
      "metadata": {
        "colab": {
          "base_uri": "https://localhost:8080/"
        },
        "id": "zIhdaXWIqw7l",
        "outputId": "f9b8735c-53d7-4754-baac-d6b4312b99b5"
      },
      "execution_count": 64,
      "outputs": [
        {
          "output_type": "stream",
          "name": "stdout",
          "text": [
            "Random Forest: 90.77\n"
          ]
        }
      ]
    },
    {
      "cell_type": "code",
      "source": [
        "y_preb_probs_svc = svc.predict_proba(test_tfid_matrix)\n",
        "\n",
        "svc_auc_curve=roc_auc_score(y_test, y_preb_probs_svc, average=\"weighted\", multi_class=\"ovr\")\n",
        "svc_auc_curve=svc_auc_curve*100\n",
        "print(\"SVC:\",round(svc_auc_curve,2))"
      ],
      "metadata": {
        "colab": {
          "base_uri": "https://localhost:8080/"
        },
        "id": "GBnhm3ODKaBl",
        "outputId": "074fe8dc-ca88-498e-d25f-53341583c5d1"
      },
      "execution_count": 65,
      "outputs": [
        {
          "output_type": "stream",
          "name": "stdout",
          "text": [
            "SVC: 94.34\n"
          ]
        }
      ]
    },
    {
      "cell_type": "code",
      "source": [
        "y_preb_probs_log[:,1]"
      ],
      "metadata": {
        "colab": {
          "base_uri": "https://localhost:8080/"
        },
        "id": "uo2ROn78Xsuu",
        "outputId": "af2d4aab-f069-48a6-8685-e3de0ec86fdf"
      },
      "execution_count": 66,
      "outputs": [
        {
          "output_type": "execute_result",
          "data": {
            "text/plain": [
              "array([0.10655744, 0.10433916, 0.03624428, ..., 0.1950918 , 0.19119079,\n",
              "       0.00450197])"
            ]
          },
          "metadata": {},
          "execution_count": 66
        }
      ]
    },
    {
      "cell_type": "markdown",
      "source": [
        "# <font color=\"blue\"> Step 7: Metric Evaluation </font>"
      ],
      "metadata": {
        "id": "0LUiOo-DEzWl"
      }
    },
    {
      "cell_type": "markdown",
      "source": [
        "###<font color=\"blue\">\n",
        "1. ROC Curve Comparision of different models\n",
        "2. Table chart comparision of different metrics and different models\n",
        "3.Bar Chart Visualisation of different metrics and different model"
      ],
      "metadata": {
        "id": "afFznFHPGkxn"
      }
    },
    {
      "cell_type": "code",
      "source": [
        "from sklearn.metrics import roc_curve"
      ],
      "metadata": {
        "id": "7TCGo6obXWl5"
      },
      "execution_count": 67,
      "outputs": []
    },
    {
      "cell_type": "code",
      "source": [
        "fpr1, tpr1, thresh1 = roc_curve(y_test, y_preb_probs_log[:,1], pos_label=1)\n",
        "fpr2, tpr2, thresh2 = roc_curve(y_test, y_preb_probs_knn[:,1], pos_label=1)\n",
        "fpr3,tpr3,thresh3=roc_curve(y_test, y_preb_probs_ran[:,1], pos_label=1)\n",
        "fpr4,tpr4,thresh4=roc_curve(y_test, y_preb_prob_bnb[:,1], pos_label=1)\n",
        "fpr5,tpr5,thresh5=roc_curve(y_test, y_preb_probs[:,1], pos_label=1)\n",
        "fpr6,tpr6,thresh5=roc_curve(y_test, y_preb_probs_svc[:,1], pos_label=1)\n"
      ],
      "metadata": {
        "id": "mjSzLpfeXKOq"
      },
      "execution_count": 68,
      "outputs": []
    },
    {
      "cell_type": "code",
      "source": [
        "# roc curve for tpr = fpr \n",
        "random_probs = [0 for i in range(len(y_test))]\n",
        "p_fpr, p_tpr, _ = roc_curve(y_test, random_probs, pos_label=1)"
      ],
      "metadata": {
        "id": "5WFuiSBAXm4H"
      },
      "execution_count": 69,
      "outputs": []
    },
    {
      "cell_type": "code",
      "source": [
        "p_fpr"
      ],
      "metadata": {
        "colab": {
          "base_uri": "https://localhost:8080/"
        },
        "id": "uK4wHYhhIdEY",
        "outputId": "cb7fa123-a98c-4bb7-d9ad-4ba5ab86c515"
      },
      "execution_count": 70,
      "outputs": [
        {
          "output_type": "execute_result",
          "data": {
            "text/plain": [
              "array([0., 1.])"
            ]
          },
          "metadata": {},
          "execution_count": 70
        }
      ]
    },
    {
      "cell_type": "code",
      "source": [
        "p_tpr"
      ],
      "metadata": {
        "colab": {
          "base_uri": "https://localhost:8080/"
        },
        "id": "aPoueGSVIkGp",
        "outputId": "1ba8ad45-f3ff-4bf3-b863-a16746033608"
      },
      "execution_count": 71,
      "outputs": [
        {
          "output_type": "execute_result",
          "data": {
            "text/plain": [
              "array([0., 1.])"
            ]
          },
          "metadata": {},
          "execution_count": 71
        }
      ]
    },
    {
      "cell_type": "markdown",
      "source": [
        "## <font color=\"blue\"> ROC Curve Comparision of different models </font>"
      ],
      "metadata": {
        "id": "3-WQfBLeDlG2"
      }
    },
    {
      "cell_type": "code",
      "source": [
        "# matplotlib\n",
        "import matplotlib.pyplot as plt\n",
        "plt.style.use('seaborn')\n",
        "\n",
        "# plot roc curves\n",
        "plt.plot(fpr1, tpr1, linestyle='--',color='green', label='Logistic Regression')\n",
        "plt.plot(fpr2, tpr2, linestyle='--',color='#B6E880', label='KNN')\n",
        "plt.plot(fpr3, tpr3, linestyle='--',color='#00CC96', label='RandomForest')\n",
        "plt.plot(fpr4, tpr4, linestyle='--',color='yellow', label='BernoulliNB')\n",
        "plt.plot(fpr5, tpr5, linestyle='--',color='red', label='DecisionTrees')\n",
        "plt.plot(fpr6, tpr6, linestyle='--',color='#FECB52', label='SVC')\n",
        "plt.plot(p_fpr, p_tpr, linestyle='--', color='blue')\n",
        "# title\n",
        "plt.title('ROC curve')\n",
        "# x label\n",
        "plt.xlabel('False Positive Rate')\n",
        "# y label\n",
        "plt.ylabel('True Positive rate')\n",
        "\n",
        "plt.legend(loc='best')\n",
        "plt.savefig('ROC',dpi=500)\n",
        "plt.show();"
      ],
      "metadata": {
        "colab": {
          "base_uri": "https://localhost:8080/",
          "height": 376
        },
        "id": "Z6LHPbl54QY9",
        "outputId": "1d897bd8-4f89-429c-97e6-9cca0c741e09"
      },
      "execution_count": 72,
      "outputs": [
        {
          "output_type": "display_data",
          "data": {
            "text/plain": [
              "<Figure size 576x396 with 1 Axes>"
            ],
            "image/png": "[encoded data removed]"
          },
          "metadata": {}
        }
      ]
    },
    {
      "cell_type": "markdown",
      "source": [
        "## <font color=\"blue\"> AUC Comparision of different models </font>"
      ],
      "metadata": {
        "id": "IcpAX0KQrdbV"
      }
    },
    {
      "cell_type": "code",
      "source": [
        "AUC_Comparison = {'Model' : [],\n",
        "              'AUC' : [],\n",
        "              }"
      ],
      "metadata": {
        "id": "BM6v9veqlKeF"
      },
      "execution_count": 73,
      "outputs": []
    },
    {
      "cell_type": "code",
      "source": [
        "AUC_Comparison['Model'].append('DecisionTreeClassifier')\n",
        "AUC_Comparison['AUC'].append(dec_auc_curve)\n",
        "AUC_Comparison['Model'].append('Logistic Regression')\n",
        "AUC_Comparison['AUC'].append(log_auc_curve)\n",
        "AUC_Comparison['Model'].append('SVC')\n",
        "AUC_Comparison['AUC'].append(svc_auc_curve)\n",
        "AUC_Comparison['Model'].append('KNN')\n",
        "AUC_Comparison['AUC'].append(knn_auc_curve)\n",
        "AUC_Comparison['Model'].append('Random Forest')\n",
        "AUC_Comparison['AUC'].append(ran_auc_curve)\n",
        "AUC_Comparison['Model'].append('BNB')\n",
        "AUC_Comparison['AUC'].append(bnb_auc_curve)"
      ],
      "metadata": {
        "id": "AEcrPm-SlQgp"
      },
      "execution_count": 76,
      "outputs": []
    },
    {
      "cell_type": "code",
      "source": [
        "AUC_Comparison=pd.DataFrame(AUC_Comparison)\n",
        "AUC_Comparison"
      ],
      "metadata": {
        "colab": {
          "base_uri": "https://localhost:8080/",
          "height": 237
        },
        "id": "kDW6cPirmMV8",
        "outputId": "83e8cc67-7e02-4176-dc31-6c63c062cceb"
      },
      "execution_count": 80,
      "outputs": [
        {
          "output_type": "execute_result",
          "data": {
            "text/plain": [
              "                    Model        AUC\n",
              "0  DecisionTreeClassifier  69.715905\n",
              "1     Logistic Regression  94.552614\n",
              "2                     SVC  94.341241\n",
              "3                     KNN  77.163475\n",
              "4           Random Forest  90.771353\n",
              "5                     BNB  83.824200"
            ],
            "text/html": [
              "\n",
              "  <div id=\"df-42f8faa1-327e-40af-9e29-19f914b387ad\">\n",
              "    <div class=\"colab-df-container\">\n",
              "      <div>\n",
              "<style scoped>\n",
              "    .dataframe tbody tr th:only-of-type {\n",
              "        vertical-align: middle;\n",
              "    }\n",
              "\n",
              "    .dataframe tbody tr th {\n",
              "        vertical-align: top;\n",
              "    }\n",
              "\n",
              "    .dataframe thead th {\n",
              "        text-align: right;\n",
              "    }\n",
              "</style>\n",
              "<table border=\"1\" class=\"dataframe\">\n",
              "  <thead>\n",
              "    <tr style=\"text-align: right;\">\n",
              "      <th></th>\n",
              "      <th>Model</th>\n",
              "      <th>AUC</th>\n",
              "    </tr>\n",
              "  </thead>\n",
              "  <tbody>\n",
              "    <tr>\n",
              "      <th>0</th>\n",
              "      <td>DecisionTreeClassifier</td>\n",
              "      <td>69.715905</td>\n",
              "    </tr>\n",
              "    <tr>\n",
              "      <th>1</th>\n",
              "      <td>Logistic Regression</td>\n",
              "      <td>94.552614</td>\n",
              "    </tr>\n",
              "    <tr>\n",
              "      <th>2</th>\n",
              "      <td>SVC</td>\n",
              "      <td>94.341241</td>\n",
              "    </tr>\n",
              "    <tr>\n",
              "      <th>3</th>\n",
              "      <td>KNN</td>\n",
              "      <td>77.163475</td>\n",
              "    </tr>\n",
              "    <tr>\n",
              "      <th>4</th>\n",
              "      <td>Random Forest</td>\n",
              "      <td>90.771353</td>\n",
              "    </tr>\n",
              "    <tr>\n",
              "      <th>5</th>\n",
              "      <td>BNB</td>\n",
              "      <td>83.824200</td>\n",
              "    </tr>\n",
              "  </tbody>\n",
              "</table>\n",
              "</div>\n",
              "      <button class=\"colab-df-convert\" onclick=\"convertToInteractive('df-42f8faa1-327e-40af-9e29-19f914b387ad')\"\n",
              "              title=\"Convert this dataframe to an interactive table.\"\n",
              "              style=\"display:none;\">\n",
              "        \n",
              "  <svg xmlns=\"http://www.w3.org/2000/svg\" height=\"24px\"viewBox=\"0 0 24 24\"\n",
              "       width=\"24px\">\n",
              "    <path d=\"M0 0h24v24H0V0z\" fill=\"none\"/>\n",
              "    <path d=\"M18.56 5.44l.94 2.06.94-2.06 2.06-.94-2.06-.94-.94-2.06-.94 2.06-2.06.94zm-11 1L8.5 8.5l.94-2.06 2.06-.94-2.06-.94L8.5 2.5l-.94 2.06-2.06.94zm10 10l.94 2.06.94-2.06 2.06-.94-2.06-.94-.94-2.06-.94 2.06-2.06.94z\"/><path d=\"M17.41 7.96l-1.37-1.37c-.4-.4-.92-.59-1.43-.59-.52 0-1.04.2-1.43.59L10.3 9.45l-7.72 7.72c-.78.78-.78 2.05 0 2.83L4 21.41c.39.39.9.59 1.41.59.51 0 1.02-.2 1.41-.59l7.78-7.78 2.81-2.81c.8-.78.8-2.07 0-2.86zM5.41 20L4 18.59l7.72-7.72 1.47 1.35L5.41 20z\"/>\n",
              "  </svg>\n",
              "      </button>\n",
              "      \n",
              "  <style>\n",
              "    .colab-df-container {\n",
              "      display:flex;\n",
              "      flex-wrap:wrap;\n",
              "      gap: 12px;\n",
              "    }\n",
              "\n",
              "    .colab-df-convert {\n",
              "      background-color: #E8F0FE;\n",
              "      border: none;\n",
              "      border-radius: 50%;\n",
              "      cursor: pointer;\n",
              "      display: none;\n",
              "      fill: #1967D2;\n",
              "      height: 32px;\n",
              "      padding: 0 0 0 0;\n",
              "      width: 32px;\n",
              "    }\n",
              "\n",
              "    .colab-df-convert:hover {\n",
              "      background-color: #E2EBFA;\n",
              "      box-shadow: 0px 1px 2px rgba(60, 64, 67, 0.3), 0px 1px 3px 1px rgba(60, 64, 67, 0.15);\n",
              "      fill: #174EA6;\n",
              "    }\n",
              "\n",
              "    [theme=dark] .colab-df-convert {\n",
              "      background-color: #3B4455;\n",
              "      fill: #D2E3FC;\n",
              "    }\n",
              "\n",
              "    [theme=dark] .colab-df-convert:hover {\n",
              "      background-color: #434B5C;\n",
              "      box-shadow: 0px 1px 3px 1px rgba(0, 0, 0, 0.15);\n",
              "      filter: drop-shadow(0px 1px 2px rgba(0, 0, 0, 0.3));\n",
              "      fill: #FFFFFF;\n",
              "    }\n",
              "  </style>\n",
              "\n",
              "      <script>\n",
              "        const buttonEl =\n",
              "          document.querySelector('#df-42f8faa1-327e-40af-9e29-19f914b387ad button.colab-df-convert');\n",
              "        buttonEl.style.display =\n",
              "          google.colab.kernel.accessAllowed ? 'block' : 'none';\n",
              "\n",
              "        async function convertToInteractive(key) {\n",
              "          const element = document.querySelector('#df-42f8faa1-327e-40af-9e29-19f914b387ad');\n",
              "          const dataTable =\n",
              "            await google.colab.kernel.invokeFunction('convertToInteractive',\n",
              "                                                     [key], {});\n",
              "          if (!dataTable) return;\n",
              "\n",
              "          const docLinkHtml = 'Like what you see? Visit the ' +\n",
              "            '<a target=\"_blank\" href=https://colab.research.google.com/notebooks/data_table.ipynb>data table notebook</a>'\n",
              "            + ' to learn more about interactive tables.';\n",
              "          element.innerHTML = '';\n",
              "          dataTable['output_type'] = 'display_data';\n",
              "          await google.colab.output.renderOutput(dataTable, element);\n",
              "          const docLink = document.createElement('div');\n",
              "          docLink.innerHTML = docLinkHtml;\n",
              "          element.appendChild(docLink);\n",
              "        }\n",
              "      </script>\n",
              "    </div>\n",
              "  </div>\n",
              "  "
            ]
          },
          "metadata": {},
          "execution_count": 80
        }
      ]
    },
    {
      "cell_type": "code",
      "source": [
        "AUC_Comparison=AUC_Comparison.sort_values('AUC',ascending=False)\n",
        "AUC_Comparison"
      ],
      "metadata": {
        "colab": {
          "base_uri": "https://localhost:8080/",
          "height": 237
        },
        "id": "ZniFjeLqmSWH",
        "outputId": "b8e9af0c-72a2-4055-c6c3-8f8c7be1e56f"
      },
      "execution_count": 83,
      "outputs": [
        {
          "output_type": "execute_result",
          "data": {
            "text/plain": [
              "                    Model        AUC\n",
              "1     Logistic Regression  94.552614\n",
              "2                     SVC  94.341241\n",
              "4           Random Forest  90.771353\n",
              "5                     BNB  83.824200\n",
              "3                     KNN  77.163475\n",
              "0  DecisionTreeClassifier  69.715905"
            ],
            "text/html": [
              "\n",
              "  <div id=\"df-e1ec38d3-2451-4abe-a061-423a38c75027\">\n",
              "    <div class=\"colab-df-container\">\n",
              "      <div>\n",
              "<style scoped>\n",
              "    .dataframe tbody tr th:only-of-type {\n",
              "        vertical-align: middle;\n",
              "    }\n",
              "\n",
              "    .dataframe tbody tr th {\n",
              "        vertical-align: top;\n",
              "    }\n",
              "\n",
              "    .dataframe thead th {\n",
              "        text-align: right;\n",
              "    }\n",
              "</style>\n",
              "<table border=\"1\" class=\"dataframe\">\n",
              "  <thead>\n",
              "    <tr style=\"text-align: right;\">\n",
              "      <th></th>\n",
              "      <th>Model</th>\n",
              "      <th>AUC</th>\n",
              "    </tr>\n",
              "  </thead>\n",
              "  <tbody>\n",
              "    <tr>\n",
              "      <th>1</th>\n",
              "      <td>Logistic Regression</td>\n",
              "      <td>94.552614</td>\n",
              "    </tr>\n",
              "    <tr>\n",
              "      <th>2</th>\n",
              "      <td>SVC</td>\n",
              "      <td>94.341241</td>\n",
              "    </tr>\n",
              "    <tr>\n",
              "      <th>4</th>\n",
              "      <td>Random Forest</td>\n",
              "      <td>90.771353</td>\n",
              "    </tr>\n",
              "    <tr>\n",
              "      <th>5</th>\n",
              "      <td>BNB</td>\n",
              "      <td>83.824200</td>\n",
              "    </tr>\n",
              "    <tr>\n",
              "      <th>3</th>\n",
              "      <td>KNN</td>\n",
              "      <td>77.163475</td>\n",
              "    </tr>\n",
              "    <tr>\n",
              "      <th>0</th>\n",
              "      <td>DecisionTreeClassifier</td>\n",
              "      <td>69.715905</td>\n",
              "    </tr>\n",
              "  </tbody>\n",
              "</table>\n",
              "</div>\n",
              "      <button class=\"colab-df-convert\" onclick=\"convertToInteractive('df-e1ec38d3-2451-4abe-a061-423a38c75027')\"\n",
              "              title=\"Convert this dataframe to an interactive table.\"\n",
              "              style=\"display:none;\">\n",
              "        \n",
              "  <svg xmlns=\"http://www.w3.org/2000/svg\" height=\"24px\"viewBox=\"0 0 24 24\"\n",
              "       width=\"24px\">\n",
              "    <path d=\"M0 0h24v24H0V0z\" fill=\"none\"/>\n",
              "    <path d=\"M18.56 5.44l.94 2.06.94-2.06 2.06-.94-2.06-.94-.94-2.06-.94 2.06-2.06.94zm-11 1L8.5 8.5l.94-2.06 2.06-.94-2.06-.94L8.5 2.5l-.94 2.06-2.06.94zm10 10l.94 2.06.94-2.06 2.06-.94-2.06-.94-.94-2.06-.94 2.06-2.06.94z\"/><path d=\"M17.41 7.96l-1.37-1.37c-.4-.4-.92-.59-1.43-.59-.52 0-1.04.2-1.43.59L10.3 9.45l-7.72 7.72c-.78.78-.78 2.05 0 2.83L4 21.41c.39.39.9.59 1.41.59.51 0 1.02-.2 1.41-.59l7.78-7.78 2.81-2.81c.8-.78.8-2.07 0-2.86zM5.41 20L4 18.59l7.72-7.72 1.47 1.35L5.41 20z\"/>\n",
              "  </svg>\n",
              "      </button>\n",
              "      \n",
              "  <style>\n",
              "    .colab-df-container {\n",
              "      display:flex;\n",
              "      flex-wrap:wrap;\n",
              "      gap: 12px;\n",
              "    }\n",
              "\n",
              "    .colab-df-convert {\n",
              "      background-color: #E8F0FE;\n",
              "      border: none;\n",
              "      border-radius: 50%;\n",
              "      cursor: pointer;\n",
              "      display: none;\n",
              "      fill: #1967D2;\n",
              "      height: 32px;\n",
              "      padding: 0 0 0 0;\n",
              "      width: 32px;\n",
              "    }\n",
              "\n",
              "    .colab-df-convert:hover {\n",
              "      background-color: #E2EBFA;\n",
              "      box-shadow: 0px 1px 2px rgba(60, 64, 67, 0.3), 0px 1px 3px 1px rgba(60, 64, 67, 0.15);\n",
              "      fill: #174EA6;\n",
              "    }\n",
              "\n",
              "    [theme=dark] .colab-df-convert {\n",
              "      background-color: #3B4455;\n",
              "      fill: #D2E3FC;\n",
              "    }\n",
              "\n",
              "    [theme=dark] .colab-df-convert:hover {\n",
              "      background-color: #434B5C;\n",
              "      box-shadow: 0px 1px 3px 1px rgba(0, 0, 0, 0.15);\n",
              "      filter: drop-shadow(0px 1px 2px rgba(0, 0, 0, 0.3));\n",
              "      fill: #FFFFFF;\n",
              "    }\n",
              "  </style>\n",
              "\n",
              "      <script>\n",
              "        const buttonEl =\n",
              "          document.querySelector('#df-e1ec38d3-2451-4abe-a061-423a38c75027 button.colab-df-convert');\n",
              "        buttonEl.style.display =\n",
              "          google.colab.kernel.accessAllowed ? 'block' : 'none';\n",
              "\n",
              "        async function convertToInteractive(key) {\n",
              "          const element = document.querySelector('#df-e1ec38d3-2451-4abe-a061-423a38c75027');\n",
              "          const dataTable =\n",
              "            await google.colab.kernel.invokeFunction('convertToInteractive',\n",
              "                                                     [key], {});\n",
              "          if (!dataTable) return;\n",
              "\n",
              "          const docLinkHtml = 'Like what you see? Visit the ' +\n",
              "            '<a target=\"_blank\" href=https://colab.research.google.com/notebooks/data_table.ipynb>data table notebook</a>'\n",
              "            + ' to learn more about interactive tables.';\n",
              "          element.innerHTML = '';\n",
              "          dataTable['output_type'] = 'display_data';\n",
              "          await google.colab.output.renderOutput(dataTable, element);\n",
              "          const docLink = document.createElement('div');\n",
              "          docLink.innerHTML = docLinkHtml;\n",
              "          element.appendChild(docLink);\n",
              "        }\n",
              "      </script>\n",
              "    </div>\n",
              "  </div>\n",
              "  "
            ]
          },
          "metadata": {},
          "execution_count": 83
        }
      ]
    },
    {
      "cell_type": "code",
      "source": [
        "from sklearn.metrics import accuracy_score, precision_score, recall_score, f1_score\n",
        "Model_Performance_Comparison = {'Model' : [],\n",
        "              'Accuracy Score' : [],\n",
        "              'Precision Score' : [],\n",
        "              'Recall Score' : [],\n",
        "              'f1 Score' : []}"
      ],
      "metadata": {
        "id": "v9QYgb9NXYPL"
      },
      "execution_count": 100,
      "outputs": []
    },
    {
      "cell_type": "code",
      "source": [
        "Model_Performance_Comparison['Model'].append('LogisticRegression')\n",
        "Model_Performance_Comparison['Accuracy Score'].append(0.86)\n",
        "Model_Performance_Comparison['Precision Score'].append(precision_score(y_test, pred, average='macro'))\n",
        "Model_Performance_Comparison['Recall Score'].append(recall_score(y_test, pred, average='macro'))\n",
        "Model_Performance_Comparison['f1 Score'].append(f1_score(y_test, pred, average='macro'))"
      ],
      "metadata": {
        "id": "QDXu0FOdaYXM"
      },
      "execution_count": 101,
      "outputs": []
    },
    {
      "cell_type": "code",
      "source": [
        "Model_Performance_Comparison"
      ],
      "metadata": {
        "colab": {
          "base_uri": "https://localhost:8080/"
        },
        "id": "vADeysOBbOIh",
        "outputId": "3ff02102-5aa6-4e3a-b87a-ec0b0813fb55"
      },
      "execution_count": 102,
      "outputs": [
        {
          "output_type": "execute_result",
          "data": {
            "text/plain": [
              "{'Model': ['LogisticRegression'],\n",
              " 'Accuracy Score': [0.86],\n",
              " 'Precision Score': [0.7306957277969213],\n",
              " 'Recall Score': [0.6369980901248335],\n",
              " 'f1 Score': [0.6571399044359606]}"
            ]
          },
          "metadata": {},
          "execution_count": 102
        }
      ]
    },
    {
      "cell_type": "code",
      "source": [
        "Model_Performance_Comparison['Model'].append('SVC')\n",
        "Model_Performance_Comparison['Accuracy Score'].append(0.86)\n",
        "Model_Performance_Comparison['Precision Score'].append(precision_score(y_test, pred_svc, average='macro'))\n",
        "Model_Performance_Comparison['Recall Score'].append(recall_score(y_test, pred_svc, average='macro'))\n",
        "Model_Performance_Comparison['f1 Score'].append(f1_score(y_test, pred_svc, average='macro'))"
      ],
      "metadata": {
        "id": "m5VQk6oILhhy"
      },
      "execution_count": 103,
      "outputs": []
    },
    {
      "cell_type": "code",
      "source": [
        "Model_Performance_Comparison"
      ],
      "metadata": {
        "colab": {
          "base_uri": "https://localhost:8080/"
        },
        "id": "o0ChBTj4NuGa",
        "outputId": "efad79e4-5616-457d-e5dc-de207ae62f87"
      },
      "execution_count": 104,
      "outputs": [
        {
          "output_type": "execute_result",
          "data": {
            "text/plain": [
              "{'Model': ['LogisticRegression', 'SVC'],\n",
              " 'Accuracy Score': [0.86, 0.86],\n",
              " 'Precision Score': [0.7306957277969213, 0.7457252833466427],\n",
              " 'Recall Score': [0.6369980901248335, 0.6190741268751281],\n",
              " 'f1 Score': [0.6571399044359606, 0.6309955364038521]}"
            ]
          },
          "metadata": {},
          "execution_count": 104
        }
      ]
    },
    {
      "cell_type": "code",
      "source": [
        "Model_Performance_Comparison['Model'].append('RandomForest')\n",
        "Model_Performance_Comparison['Accuracy Score'].append(0.79)\n",
        "Model_Performance_Comparison['Precision Score'].append(precision_score(y_test, pred_random_f, average='macro'))\n",
        "Model_Performance_Comparison['Recall Score'].append(recall_score(y_test, pred_random_f, average='macro'))\n",
        "Model_Performance_Comparison['f1 Score'].append(f1_score(y_test, pred_random_f, average='macro'))"
      ],
      "metadata": {
        "id": "vERocFWbULAi"
      },
      "execution_count": 105,
      "outputs": []
    },
    {
      "cell_type": "code",
      "source": [
        "Model_Performance_Comparison"
      ],
      "metadata": {
        "colab": {
          "base_uri": "https://localhost:8080/"
        },
        "id": "gLi_7hN9UOJg",
        "outputId": "99420ce7-5b08-40bc-8722-0fa615805de1"
      },
      "execution_count": 106,
      "outputs": [
        {
          "output_type": "execute_result",
          "data": {
            "text/plain": [
              "{'Model': ['LogisticRegression', 'SVC', 'RandomForest'],\n",
              " 'Accuracy Score': [0.86, 0.86, 0.79],\n",
              " 'Precision Score': [0.7306957277969213,\n",
              "  0.7457252833466427,\n",
              "  0.9073296951147128],\n",
              " 'Recall Score': [0.6369980901248335, 0.6190741268751281, 0.4377452472340999],\n",
              " 'f1 Score': [0.6571399044359606, 0.6309955364038521, 0.4495266869247523]}"
            ]
          },
          "metadata": {},
          "execution_count": 106
        }
      ]
    },
    {
      "cell_type": "code",
      "source": [
        "Model_Performance_Comparison['Model'].append('K Nearest Neighbors')\n",
        "Model_Performance_Comparison['Accuracy Score'].append(0.77)\n",
        "Model_Performance_Comparison['Precision Score'].append(precision_score(y_test, pred_knn, average='macro'))\n",
        "Model_Performance_Comparison['Recall Score'].append(recall_score(y_test, pred_knn, average='macro'))\n",
        "Model_Performance_Comparison['f1 Score'].append(f1_score(y_test, pred_knn, average='macro'))"
      ],
      "metadata": {
        "id": "fIRuEsL8WtqN"
      },
      "execution_count": 107,
      "outputs": []
    },
    {
      "cell_type": "code",
      "source": [
        "Model_Performance_Comparison"
      ],
      "metadata": {
        "colab": {
          "base_uri": "https://localhost:8080/"
        },
        "id": "nA24qe0RNu1Q",
        "outputId": "82054b8a-4c6d-4601-f052-976ea5065872"
      },
      "execution_count": 108,
      "outputs": [
        {
          "output_type": "execute_result",
          "data": {
            "text/plain": [
              "{'Model': ['LogisticRegression', 'SVC', 'RandomForest', 'K Nearest Neighbors'],\n",
              " 'Accuracy Score': [0.86, 0.86, 0.79, 0.77],\n",
              " 'Precision Score': [0.7306957277969213,\n",
              "  0.7457252833466427,\n",
              "  0.9073296951147128,\n",
              "  0.572579061779319],\n",
              " 'Recall Score': [0.6369980901248335,\n",
              "  0.6190741268751281,\n",
              "  0.4377452472340999,\n",
              "  0.48989391023155876],\n",
              " 'f1 Score': [0.6571399044359606,\n",
              "  0.6309955364038521,\n",
              "  0.4495266869247523,\n",
              "  0.511283449826943]}"
            ]
          },
          "metadata": {},
          "execution_count": 108
        }
      ]
    },
    {
      "cell_type": "code",
      "source": [
        "Model_Performance_Comparison['Model'].append('BernoulliNB')\n",
        "Model_Performance_Comparison['Accuracy Score'].append(0.76)\n",
        "Model_Performance_Comparison['Precision Score'].append(precision_score(y_test, pred_bnb, average='macro'))\n",
        "Model_Performance_Comparison['Recall Score'].append(recall_score(y_test, pred_bnb, average='macro'))\n",
        "Model_Performance_Comparison['f1 Score'].append(f1_score(y_test, pred_bnb, average='macro'))"
      ],
      "metadata": {
        "id": "bSFTd5QvLofO"
      },
      "execution_count": 109,
      "outputs": []
    },
    {
      "cell_type": "code",
      "source": [
        "Model_Performance_Comparison['Model'].append('DecisionTrees')\n",
        "Model_Performance_Comparison['Accuracy Score'].append(0.73)\n",
        "Model_Performance_Comparison['Precision Score'].append(precision_score(y_test, pred_dec, average='macro'))\n",
        "Model_Performance_Comparison['Recall Score'].append(recall_score(y_test, pred_dec, average='macro'))\n",
        "Model_Performance_Comparison['f1 Score'].append(f1_score(y_test, pred_dec, average='macro'))"
      ],
      "metadata": {
        "id": "uMB5Hb2-YKt9"
      },
      "execution_count": 110,
      "outputs": []
    },
    {
      "cell_type": "markdown",
      "source": [
        "## <font color=\"blue\"> Table chart comparision of different metrics and different models </font>"
      ],
      "metadata": {
        "id": "iAfb0HLRDxQS"
      }
    },
    {
      "cell_type": "code",
      "source": [
        "pd.DataFrame(Model_Performance_Comparison)"
      ],
      "metadata": {
        "colab": {
          "base_uri": "https://localhost:8080/",
          "height": 237
        },
        "id": "kdPTKRhbrpIT",
        "outputId": "7e4a2361-aa73-4fd7-fcb9-744d6d6d4e08"
      },
      "execution_count": 111,
      "outputs": [
        {
          "output_type": "execute_result",
          "data": {
            "text/plain": [
              "                 Model  Accuracy Score  Precision Score  Recall Score  \\\n",
              "0   LogisticRegression            0.86         0.730696      0.636998   \n",
              "1                  SVC            0.86         0.745725      0.619074   \n",
              "2         RandomForest            0.79         0.907330      0.437745   \n",
              "3  K Nearest Neighbors            0.77         0.572579      0.489894   \n",
              "4          BernoulliNB            0.76         0.543582      0.456493   \n",
              "5        DecisionTrees            0.73         0.522344      0.525995   \n",
              "\n",
              "   f1 Score  \n",
              "0  0.657140  \n",
              "1  0.630996  \n",
              "2  0.449527  \n",
              "3  0.511283  \n",
              "4  0.473938  \n",
              "5  0.524109  "
            ],
            "text/html": [
              "\n",
              "  <div id=\"df-26a7084b-e60d-4c79-9e82-0d5f814bd3ab\">\n",
              "    <div class=\"colab-df-container\">\n",
              "      <div>\n",
              "<style scoped>\n",
              "    .dataframe tbody tr th:only-of-type {\n",
              "        vertical-align: middle;\n",
              "    }\n",
              "\n",
              "    .dataframe tbody tr th {\n",
              "        vertical-align: top;\n",
              "    }\n",
              "\n",
              "    .dataframe thead th {\n",
              "        text-align: right;\n",
              "    }\n",
              "</style>\n",
              "<table border=\"1\" class=\"dataframe\">\n",
              "  <thead>\n",
              "    <tr style=\"text-align: right;\">\n",
              "      <th></th>\n",
              "      <th>Model</th>\n",
              "      <th>Accuracy Score</th>\n",
              "      <th>Precision Score</th>\n",
              "      <th>Recall Score</th>\n",
              "      <th>f1 Score</th>\n",
              "    </tr>\n",
              "  </thead>\n",
              "  <tbody>\n",
              "    <tr>\n",
              "      <th>0</th>\n",
              "      <td>LogisticRegression</td>\n",
              "      <td>0.86</td>\n",
              "      <td>0.730696</td>\n",
              "      <td>0.636998</td>\n",
              "      <td>0.657140</td>\n",
              "    </tr>\n",
              "    <tr>\n",
              "      <th>1</th>\n",
              "      <td>SVC</td>\n",
              "      <td>0.86</td>\n",
              "      <td>0.745725</td>\n",
              "      <td>0.619074</td>\n",
              "      <td>0.630996</td>\n",
              "    </tr>\n",
              "    <tr>\n",
              "      <th>2</th>\n",
              "      <td>RandomForest</td>\n",
              "      <td>0.79</td>\n",
              "      <td>0.907330</td>\n",
              "      <td>0.437745</td>\n",
              "      <td>0.449527</td>\n",
              "    </tr>\n",
              "    <tr>\n",
              "      <th>3</th>\n",
              "      <td>K Nearest Neighbors</td>\n",
              "      <td>0.77</td>\n",
              "      <td>0.572579</td>\n",
              "      <td>0.489894</td>\n",
              "      <td>0.511283</td>\n",
              "    </tr>\n",
              "    <tr>\n",
              "      <th>4</th>\n",
              "      <td>BernoulliNB</td>\n",
              "      <td>0.76</td>\n",
              "      <td>0.543582</td>\n",
              "      <td>0.456493</td>\n",
              "      <td>0.473938</td>\n",
              "    </tr>\n",
              "    <tr>\n",
              "      <th>5</th>\n",
              "      <td>DecisionTrees</td>\n",
              "      <td>0.73</td>\n",
              "      <td>0.522344</td>\n",
              "      <td>0.525995</td>\n",
              "      <td>0.524109</td>\n",
              "    </tr>\n",
              "  </tbody>\n",
              "</table>\n",
              "</div>\n",
              "      <button class=\"colab-df-convert\" onclick=\"convertToInteractive('df-26a7084b-e60d-4c79-9e82-0d5f814bd3ab')\"\n",
              "              title=\"Convert this dataframe to an interactive table.\"\n",
              "              style=\"display:none;\">\n",
              "        \n",
              "  <svg xmlns=\"http://www.w3.org/2000/svg\" height=\"24px\"viewBox=\"0 0 24 24\"\n",
              "       width=\"24px\">\n",
              "    <path d=\"M0 0h24v24H0V0z\" fill=\"none\"/>\n",
              "    <path d=\"M18.56 5.44l.94 2.06.94-2.06 2.06-.94-2.06-.94-.94-2.06-.94 2.06-2.06.94zm-11 1L8.5 8.5l.94-2.06 2.06-.94-2.06-.94L8.5 2.5l-.94 2.06-2.06.94zm10 10l.94 2.06.94-2.06 2.06-.94-2.06-.94-.94-2.06-.94 2.06-2.06.94z\"/><path d=\"M17.41 7.96l-1.37-1.37c-.4-.4-.92-.59-1.43-.59-.52 0-1.04.2-1.43.59L10.3 9.45l-7.72 7.72c-.78.78-.78 2.05 0 2.83L4 21.41c.39.39.9.59 1.41.59.51 0 1.02-.2 1.41-.59l7.78-7.78 2.81-2.81c.8-.78.8-2.07 0-2.86zM5.41 20L4 18.59l7.72-7.72 1.47 1.35L5.41 20z\"/>\n",
              "  </svg>\n",
              "      </button>\n",
              "      \n",
              "  <style>\n",
              "    .colab-df-container {\n",
              "      display:flex;\n",
              "      flex-wrap:wrap;\n",
              "      gap: 12px;\n",
              "    }\n",
              "\n",
              "    .colab-df-convert {\n",
              "      background-color: #E8F0FE;\n",
              "      border: none;\n",
              "      border-radius: 50%;\n",
              "      cursor: pointer;\n",
              "      display: none;\n",
              "      fill: #1967D2;\n",
              "      height: 32px;\n",
              "      padding: 0 0 0 0;\n",
              "      width: 32px;\n",
              "    }\n",
              "\n",
              "    .colab-df-convert:hover {\n",
              "      background-color: #E2EBFA;\n",
              "      box-shadow: 0px 1px 2px rgba(60, 64, 67, 0.3), 0px 1px 3px 1px rgba(60, 64, 67, 0.15);\n",
              "      fill: #174EA6;\n",
              "    }\n",
              "\n",
              "    [theme=dark] .colab-df-convert {\n",
              "      background-color: #3B4455;\n",
              "      fill: #D2E3FC;\n",
              "    }\n",
              "\n",
              "    [theme=dark] .colab-df-convert:hover {\n",
              "      background-color: #434B5C;\n",
              "      box-shadow: 0px 1px 3px 1px rgba(0, 0, 0, 0.15);\n",
              "      filter: drop-shadow(0px 1px 2px rgba(0, 0, 0, 0.3));\n",
              "      fill: #FFFFFF;\n",
              "    }\n",
              "  </style>\n",
              "\n",
              "      <script>\n",
              "        const buttonEl =\n",
              "          document.querySelector('#df-26a7084b-e60d-4c79-9e82-0d5f814bd3ab button.colab-df-convert');\n",
              "        buttonEl.style.display =\n",
              "          google.colab.kernel.accessAllowed ? 'block' : 'none';\n",
              "\n",
              "        async function convertToInteractive(key) {\n",
              "          const element = document.querySelector('#df-26a7084b-e60d-4c79-9e82-0d5f814bd3ab');\n",
              "          const dataTable =\n",
              "            await google.colab.kernel.invokeFunction('convertToInteractive',\n",
              "                                                     [key], {});\n",
              "          if (!dataTable) return;\n",
              "\n",
              "          const docLinkHtml = 'Like what you see? Visit the ' +\n",
              "            '<a target=\"_blank\" href=https://colab.research.google.com/notebooks/data_table.ipynb>data table notebook</a>'\n",
              "            + ' to learn more about interactive tables.';\n",
              "          element.innerHTML = '';\n",
              "          dataTable['output_type'] = 'display_data';\n",
              "          await google.colab.output.renderOutput(dataTable, element);\n",
              "          const docLink = document.createElement('div');\n",
              "          docLink.innerHTML = docLinkHtml;\n",
              "          element.appendChild(docLink);\n",
              "        }\n",
              "      </script>\n",
              "    </div>\n",
              "  </div>\n",
              "  "
            ]
          },
          "metadata": {},
          "execution_count": 111
        }
      ]
    },
    {
      "cell_type": "markdown",
      "source": [
        "## <font color=\"blue\"> Bar Chart Visualisation of different metrics and different models </font>"
      ],
      "metadata": {
        "id": "Go_8GfdrD9kR"
      }
    },
    {
      "cell_type": "code",
      "source": [
        "# set width of bar\n",
        "barWidth = 0.20\n",
        "plt.rcParams[\"figure.figsize\"] = (10.5,6)\n",
        " \n",
        "# set height of bar\n",
        "accuracy_bar = [86,86,79,77,76,73]\n",
        "precision_bar = [73,75,90,57,54,52]\n",
        "recall_bar = [64,62,44,49,46,53]\n",
        "f1score_bar=[66,62,45,51,47,52]\n",
        " \n",
        "# Set position of bar on X axis\n",
        "r1 = np.arange(len(accuracy_bar))\n",
        "r2 = [x + barWidth for x in r1]\n",
        "r3 = [x + barWidth for x in r2]\n",
        "r4= [x + barWidth for x in r3]\n",
        " \n",
        "# Make the plot\n",
        "plt.bar(r1, accuracy_bar, color='#00CC96', width=barWidth, edgecolor='white', label='Accuracy')\n",
        "plt.bar(r2, precision_bar, color='#B6E880', width=barWidth, edgecolor='white', label='Precision')\n",
        "plt.bar(r3, recall_bar, color='#FECB52', width=barWidth, edgecolor='white', label='Recall')\n",
        "plt.bar(r4, f1score_bar, color='#FFA15A', width=barWidth, edgecolor='white', label='F1 Score')\n",
        " \n",
        "# Add xticks on the middle of the group bars\n",
        "#plt.xlabel('group', fontweight='bold')\n",
        "plt.xticks([r + barWidth for r in range(len(accuracy_bar))], ['LogisticRegression', 'SVC', 'RandomForest','KNN', 'BNB','DecisionTrees'])\n",
        " \n",
        "# Create legend & Show graphic\n",
        "plt.legend()\n",
        "plt.show()"
      ],
      "metadata": {
        "colab": {
          "base_uri": "https://localhost:8080/",
          "height": 374
        },
        "id": "CL0aNmGoVFkG",
        "outputId": "da9522e9-c8f2-490d-b3a9-fef69939a470"
      },
      "execution_count": 112,
      "outputs": [
        {
          "output_type": "display_data",
          "data": {
            "text/plain": [
              "<Figure size 756x432 with 1 Axes>"
            ],
            "image/png": "[encoded data removed]"
          },
          "metadata": {}
        }
      ]
    },
    {
      "cell_type": "code",
      "source": [],
      "metadata": {
        "id": "wYBUUBQMicM7"
      },
      "execution_count": 96,
      "outputs": []
    }
  ],
  "metadata": {
    "colab": {
      "collapsed_sections": [],
      "name": "Hotel_Reviews_Model_1_changes_rating.ipynb",
      "provenance": []
    },
    "kernelspec": {
      "display_name": "Python 3",
      "name": "python3"
    },
    "language_info": {
      "name": "python"
    }
  },
  "nbformat": 4,
  "nbformat_minor": 0
}